{
 "cells": [
  {
   "cell_type": "code",
   "execution_count": 1,
   "id": "27494190",
   "metadata": {},
   "outputs": [
    {
     "name": "stdout",
     "output_type": "stream",
     "text": [
      "Bot: Hello! I can help you reset your password.\n",
      "Bot: Please enter your registered email:\n",
      "You: aswath@gmail.com\n",
      "Bot: A verification code has been sent to aswath@gmail.com. (Simulation: code is 6943)\n",
      "Bot: Please enter the 4-digit verification code:\n",
      "You: 6943\n",
      "Bot: Enter your new password:\n",
      "You: Aswath\n",
      "Bot: Confirm your new password:\n",
      "You: Aswath\n",
      "Bot: Password must be at least 6 characters long and include both letters and numbers.\n",
      "Bot: Enter your new password:\n",
      "You: Aswath007\n",
      "Bot: Confirm your new password:\n",
      "You: Aswath007\n",
      "Bot: Your password has been successfully reset!\n"
     ]
    }
   ],
   "source": [
    "import re\n",
    "import random\n",
    "\n",
    "def send_verification_code():\n",
    "    return str(random.randint(1000, 9999))\n",
    "\n",
    "def is_valid_email(email):\n",
    "    pattern = r'^[\\w\\.-]+@[\\w\\.-]+\\.\\w{2,}$'\n",
    "    return re.match(pattern, email)\n",
    "\n",
    "def is_strong_password(pwd):\n",
    "    return len(pwd) >= 6 and any(c.isdigit() for c in pwd) and any(c.isalpha() for c in pwd)\n",
    "\n",
    "def reset_password_bot():\n",
    "    print(\"Bot: Hello! I can help you reset your password.\")\n",
    "\n",
    "    while True:\n",
    "        email = input(\"Bot: Please enter your registered email:\\nYou: \")\n",
    "        if is_valid_email(email):\n",
    "            break\n",
    "        else:\n",
    "            print(\"Bot: That doesn't look like a valid email address. Please try again.\")\n",
    "\n",
    "    code = send_verification_code()\n",
    "    print(f\"Bot: A verification code has been sent to {email}. (Simulation: code is {code})\")\n",
    "\n",
    "    attempts = 3\n",
    "    while attempts > 0:\n",
    "        user_code = input(\"Bot: Please enter the 4-digit verification code:\\nYou: \")\n",
    "        if user_code == code:\n",
    "            break\n",
    "        else:\n",
    "            attempts -= 1\n",
    "            print(f\"Bot: Incorrect code. Attempts left: {attempts}\")\n",
    "\n",
    "    if attempts == 0:\n",
    "        print(\"Bot: Verification failed. Cannot reset password.\")\n",
    "        return\n",
    "\n",
    "    while True:\n",
    "        pwd1 = input(\"Bot: Enter your new password:\\nYou: \")\n",
    "        pwd2 = input(\"Bot: Confirm your new password:\\nYou: \")\n",
    "\n",
    "        if pwd1 != pwd2:\n",
    "            print(\"Bot: Passwords do not match. Try again.\")\n",
    "        elif not is_strong_password(pwd1):\n",
    "            print(\"Bot: Password must be at least 6 characters long and include both letters and numbers.\")\n",
    "        else:\n",
    "            print(\"Bot: Your password has been successfully reset!\")\n",
    "            break\n",
    "\n",
    "reset_password_bot()\n"
   ]
  },
  {
   "cell_type": "code",
   "execution_count": null,
   "id": "d225f287",
   "metadata": {},
   "outputs": [],
   "source": []
  }
 ],
 "metadata": {
  "kernelspec": {
   "display_name": "Python 3 (ipykernel)",
   "language": "python",
   "name": "python3"
  },
  "language_info": {
   "codemirror_mode": {
    "name": "ipython",
    "version": 3
   },
   "file_extension": ".py",
   "mimetype": "text/x-python",
   "name": "python",
   "nbconvert_exporter": "python",
   "pygments_lexer": "ipython3",
   "version": "3.11.7"
  }
 },
 "nbformat": 4,
 "nbformat_minor": 5
}
