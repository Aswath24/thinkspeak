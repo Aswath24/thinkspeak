{
 "cells": [
  {
   "cell_type": "code",
   "execution_count": 1,
   "id": "1ae00c13",
   "metadata": {},
   "outputs": [
    {
     "name": "stdout",
     "output_type": "stream",
     "text": [
      "Collecting googletrans==4.0.0-rc1\n",
      "  Downloading googletrans-4.0.0rc1.tar.gz (20 kB)\n",
      "  Preparing metadata (setup.py) ... \u001b[?25ldone\n",
      "\u001b[?25hCollecting gTTS\n",
      "  Downloading gTTS-2.5.4-py3-none-any.whl.metadata (4.1 kB)\n",
      "Collecting httpx==0.13.3 (from googletrans==4.0.0-rc1)\n",
      "  Downloading httpx-0.13.3-py3-none-any.whl.metadata (25 kB)\n",
      "Requirement already satisfied: certifi in /opt/anaconda3/lib/python3.11/site-packages (from httpx==0.13.3->googletrans==4.0.0-rc1) (2024.2.2)\n",
      "Collecting hstspreload (from httpx==0.13.3->googletrans==4.0.0-rc1)\n",
      "  Downloading hstspreload-2025.1.1-py3-none-any.whl.metadata (2.1 kB)\n",
      "Requirement already satisfied: sniffio in /opt/anaconda3/lib/python3.11/site-packages (from httpx==0.13.3->googletrans==4.0.0-rc1) (1.3.0)\n",
      "Collecting chardet==3.* (from httpx==0.13.3->googletrans==4.0.0-rc1)\n",
      "  Downloading chardet-3.0.4-py2.py3-none-any.whl.metadata (3.2 kB)\n",
      "Collecting idna==2.* (from httpx==0.13.3->googletrans==4.0.0-rc1)\n",
      "  Downloading idna-2.10-py2.py3-none-any.whl.metadata (9.1 kB)\n",
      "Collecting rfc3986<2,>=1.3 (from httpx==0.13.3->googletrans==4.0.0-rc1)\n",
      "  Downloading rfc3986-1.5.0-py2.py3-none-any.whl.metadata (6.5 kB)\n",
      "Collecting httpcore==0.9.* (from httpx==0.13.3->googletrans==4.0.0-rc1)\n",
      "  Downloading httpcore-0.9.1-py3-none-any.whl.metadata (4.6 kB)\n",
      "Collecting h11<0.10,>=0.8 (from httpcore==0.9.*->httpx==0.13.3->googletrans==4.0.0-rc1)\n",
      "  Downloading h11-0.9.0-py2.py3-none-any.whl.metadata (8.1 kB)\n",
      "Collecting h2==3.* (from httpcore==0.9.*->httpx==0.13.3->googletrans==4.0.0-rc1)\n",
      "  Downloading h2-3.2.0-py2.py3-none-any.whl.metadata (32 kB)\n",
      "Collecting hyperframe<6,>=5.2.0 (from h2==3.*->httpcore==0.9.*->httpx==0.13.3->googletrans==4.0.0-rc1)\n",
      "  Downloading hyperframe-5.2.0-py2.py3-none-any.whl.metadata (7.2 kB)\n",
      "Collecting hpack<4,>=3.0 (from h2==3.*->httpcore==0.9.*->httpx==0.13.3->googletrans==4.0.0-rc1)\n",
      "  Downloading hpack-3.0.0-py2.py3-none-any.whl.metadata (7.0 kB)\n",
      "Requirement already satisfied: requests<3,>=2.27 in /opt/anaconda3/lib/python3.11/site-packages (from gTTS) (2.32.3)\n",
      "Requirement already satisfied: click<8.2,>=7.1 in /opt/anaconda3/lib/python3.11/site-packages (from gTTS) (8.1.7)\n",
      "Requirement already satisfied: charset-normalizer<4,>=2 in /opt/anaconda3/lib/python3.11/site-packages (from requests<3,>=2.27->gTTS) (2.0.4)\n",
      "Requirement already satisfied: urllib3<3,>=1.21.1 in /opt/anaconda3/lib/python3.11/site-packages (from requests<3,>=2.27->gTTS) (2.0.7)\n",
      "Downloading httpx-0.13.3-py3-none-any.whl (55 kB)\n",
      "\u001b[2K   \u001b[90m━━━━━━━━━━━━━━━━━━━━━━━━━━━━━━━━━━━━━━━━\u001b[0m \u001b[32m55.1/55.1 kB\u001b[0m \u001b[31m62.7 kB/s\u001b[0m eta \u001b[36m0:00:00\u001b[0ma \u001b[36m0:00:01\u001b[0m\n",
      "\u001b[?25hDownloading chardet-3.0.4-py2.py3-none-any.whl (133 kB)\n",
      "\u001b[2K   \u001b[90m━━━━━━━━━━━━━━━━━━━━━━━━━━━━━━━━━━━━━━━━\u001b[0m \u001b[32m133.4/133.4 kB\u001b[0m \u001b[31m64.9 kB/s\u001b[0m eta \u001b[36m0:00:00\u001b[0ma \u001b[36m0:00:01\u001b[0m\n",
      "\u001b[?25hDownloading httpcore-0.9.1-py3-none-any.whl (42 kB)\n",
      "\u001b[2K   \u001b[90m━━━━━━━━━━━━━━━━━━━━━━━━━━━━━━━━━━━━━━━━\u001b[0m \u001b[32m42.6/42.6 kB\u001b[0m \u001b[31m73.5 kB/s\u001b[0m eta \u001b[36m0:00:00\u001b[0ma \u001b[36m0:00:01\u001b[0m\n",
      "\u001b[?25hDownloading idna-2.10-py2.py3-none-any.whl (58 kB)\n",
      "\u001b[2K   \u001b[90m━━━━━━━━━━━━━━━━━━━━━━━━━━━━━━━━━━━━━━━━\u001b[0m \u001b[32m58.8/58.8 kB\u001b[0m \u001b[31m71.6 kB/s\u001b[0m eta \u001b[36m0:00:00\u001b[0ma \u001b[36m0:00:01\u001b[0m\n",
      "\u001b[?25hDownloading h2-3.2.0-py2.py3-none-any.whl (65 kB)\n",
      "\u001b[2K   \u001b[90m━━━━━━━━━━━━━━━━━━━━━━━━━━━━━━━━━━━━━━━━\u001b[0m \u001b[32m65.0/65.0 kB\u001b[0m \u001b[31m93.2 kB/s\u001b[0m eta \u001b[36m0:00:00\u001b[0ma \u001b[36m0:00:01\u001b[0mm\n",
      "\u001b[?25hDownloading gTTS-2.5.4-py3-none-any.whl (29 kB)\n",
      "Downloading rfc3986-1.5.0-py2.py3-none-any.whl (31 kB)\n",
      "Downloading hstspreload-2025.1.1-py3-none-any.whl (1.3 MB)\n",
      "\u001b[2K   \u001b[90m━━━━━━━━━━━━━━━━━━━━━━━━━━━━━━━━━━━━━━━━\u001b[0m \u001b[32m1.3/1.3 MB\u001b[0m \u001b[31m50.5 kB/s\u001b[0m eta \u001b[36m0:00:00\u001b[0m00:01\u001b[0m00:01\u001b[0m\n",
      "\u001b[?25hDownloading h11-0.9.0-py2.py3-none-any.whl (53 kB)\n",
      "\u001b[2K   \u001b[90m━━━━━━━━━━━━━━━━━━━━━━━━━━━━━━━━━━━━━━━━\u001b[0m \u001b[32m53.6/53.6 kB\u001b[0m \u001b[31m68.9 kB/s\u001b[0m eta \u001b[36m0:00:00\u001b[0ma \u001b[36m0:00:01\u001b[0m\n",
      "\u001b[?25hDownloading hpack-3.0.0-py2.py3-none-any.whl (38 kB)\n",
      "Downloading hyperframe-5.2.0-py2.py3-none-any.whl (12 kB)\n",
      "Building wheels for collected packages: googletrans\n",
      "  Building wheel for googletrans (setup.py) ... \u001b[?25ldone\n",
      "\u001b[?25h  Created wheel for googletrans: filename=googletrans-4.0.0rc1-py3-none-any.whl size=17396 sha256=ea8634b715a7c9ee8250298294754ec0a539290b4c45fd963c064173763aab9a\n",
      "  Stored in directory: /Users/aswatha/Library/Caches/pip/wheels/39/17/6f/66a045ea3d168826074691b4b787b8f324d3f646d755443fda\n",
      "Successfully built googletrans\n",
      "Installing collected packages: rfc3986, hyperframe, hpack, h11, chardet, idna, hstspreload, h2, httpcore, httpx, gTTS, googletrans\n",
      "  Attempting uninstall: h11\n",
      "    Found existing installation: h11 0.14.0\n",
      "    Uninstalling h11-0.14.0:\n",
      "      Successfully uninstalled h11-0.14.0\n",
      "  Attempting uninstall: chardet\n",
      "    Found existing installation: chardet 4.0.0\n",
      "    Uninstalling chardet-4.0.0:\n",
      "      Successfully uninstalled chardet-4.0.0\n",
      "  Attempting uninstall: idna\n",
      "    Found existing installation: idna 3.4\n",
      "    Uninstalling idna-3.4:\n",
      "      Successfully uninstalled idna-3.4\n",
      "  Attempting uninstall: httpcore\n",
      "    Found existing installation: httpcore 1.0.2\n",
      "    Uninstalling httpcore-1.0.2:\n",
      "      Successfully uninstalled httpcore-1.0.2\n",
      "  Attempting uninstall: httpx\n",
      "    Found existing installation: httpx 0.27.2\n",
      "    Uninstalling httpx-0.27.2:\n",
      "      Successfully uninstalled httpx-0.27.2\n",
      "\u001b[31mERROR: pip's dependency resolver does not currently take into account all the packages that are installed. This behaviour is the source of the following dependency conflicts.\n",
      "conda-repo-cli 1.0.75 requires requests_mock, which is not installed.\n",
      "gradio-client 1.3.0 requires httpx>=0.24.1, but you have httpx 0.13.3 which is incompatible.\n",
      "conda-repo-cli 1.0.75 requires clyent==1.2.1, but you have clyent 1.2.2 which is incompatible.\n",
      "conda-repo-cli 1.0.75 requires requests==2.31.0, but you have requests 2.32.3 which is incompatible.\n",
      "tensorflow 2.17.0 requires protobuf!=4.21.0,!=4.21.1,!=4.21.2,!=4.21.3,!=4.21.4,!=4.21.5,<5.0.0dev,>=3.20.3, but you have protobuf 5.29.4 which is incompatible.\n",
      "gradio 4.42.0 requires httpx>=0.24.1, but you have httpx 0.13.3 which is incompatible.\n",
      "chromadb 0.5.7 requires httpx>=0.27.0, but you have httpx 0.13.3 which is incompatible.\n",
      "langsmith 0.1.125 requires httpx<1,>=0.23.0, but you have httpx 0.13.3 which is incompatible.\u001b[0m\u001b[31m\n",
      "\u001b[0mSuccessfully installed chardet-3.0.4 gTTS-2.5.4 googletrans-4.0.0rc1 h11-0.9.0 h2-3.2.0 hpack-3.0.0 hstspreload-2025.1.1 httpcore-0.9.1 httpx-0.13.3 hyperframe-5.2.0 idna-2.10 rfc3986-1.5.0\n"
     ]
    }
   ],
   "source": [
    "!pip install googletrans==4.0.0-rc1 gTTS\n"
   ]
  },
  {
   "cell_type": "code",
   "execution_count": 3,
   "id": "02262eeb",
   "metadata": {},
   "outputs": [
    {
     "name": "stdout",
     "output_type": "stream",
     "text": [
      "Collecting SpeechRecognition\n",
      "  Using cached speechrecognition-3.14.3-py3-none-any.whl.metadata (30 kB)\n",
      "Requirement already satisfied: typing-extensions in /opt/anaconda3/lib/python3.11/site-packages (from SpeechRecognition) (4.13.2)\n",
      "Downloading speechrecognition-3.14.3-py3-none-any.whl (32.9 MB)\n",
      "\u001b[2K   \u001b[90m━━━━━━━━━━━━━━━━━━━━━━━━━━━━━━━━━━━━━━━━\u001b[0m \u001b[32m32.9/32.9 MB\u001b[0m \u001b[31m28.1 MB/s\u001b[0m eta \u001b[36m0:00:00\u001b[0m00:01\u001b[0m00:01\u001b[0m\n",
      "\u001b[?25hInstalling collected packages: SpeechRecognition\n",
      "Successfully installed SpeechRecognition-3.14.3\n",
      "Requirement already satisfied: jiwer in /opt/anaconda3/lib/python3.11/site-packages (3.1.0)\n",
      "Requirement already satisfied: click>=8.1.8 in /opt/anaconda3/lib/python3.11/site-packages (from jiwer) (8.2.1)\n",
      "Requirement already satisfied: rapidfuzz>=3.9.7 in /opt/anaconda3/lib/python3.11/site-packages (from jiwer) (3.13.0)\n"
     ]
    }
   ],
   "source": [
    "!pip install SpeechRecognition\n",
    "!pip install jiwer"
   ]
  },
  {
   "cell_type": "code",
   "execution_count": 6,
   "id": "2c2ddf8e",
   "metadata": {},
   "outputs": [
    {
     "name": "stdout",
     "output_type": "stream",
     "text": [
      "Translated Text (Tamil): வணக்கம், நான் அஸ்வத்\n"
     ]
    },
    {
     "data": {
      "text/html": [
       "\n",
       "                <audio  controls=\"controls\" autoplay=\"autoplay\">\n",
       "                    <source src=\"data:audio/mpeg;base64,//OExAAAAAAAAAAAAAAAAAAAAAAAAAAAAAAAAAAAAAAAAAAAAAAAAAAAAAAAAAAAAAAAAAAAAAAAAAAAAAAAAAAAAAAAAAAAAAAAAAAAAAAAAAAAAAAAAAAAAAAAAAAAAAAAAAAAAAAAAAAAAAAAAAAAAAAAAAAAAAAAAAAAAAAAAAAAAAAAAAAAAAAAAAAAAAAAAAAAAAAAAAAAAAAAAAAAAAAAAAAAAAAAAAAAAAAAAAAAAAAAAAAAAAAAAAAA//OExAAmG3X4AHoMvAEA70LT7Pe9/T+G/j7prmERERHuE9BQzl3csXFwbg0BQCwGgeCgNBQUFxd/d3v/3hEf/d5v//tEQTJ2TJ2TJpxEQYQIECBMHJkyZMBkyZAgQIECAIACBMHAYDJkyZMmQIIGECCERb3d/vcRERERF3e+7v328Rn732xs/9/7//ERH8RBO7PJk07sghEIAgCAPn+/hiH75Q5D6hNFasPvJAbO5upO3Pt5QBAD6Zu+PhYMD0ln//OExBooCyIIAMsGvWcEwGB0uPrPKnjdiFEcolrrp6taav9Juhv6+83dyXNpNuscQfSlOcdr1ZFgYoUEBM0EiAqlVRDaCjAtxVG1QQh7uZvJSPBRjBGCpKSg1JRUNg0Nx8gdoejWGwFJGYtSWhVpxmYFIalhbRGJgpOUCqA0VtvNWLslsaxRgIMp9nQ8X9re+301VSg4SqMWEBCCGxOQjozvy82hsDCUw0JbqGA6ei7HdhbC4s3NWNTVGcQ4KsAD//OExCwuW/oUANvG3Ixx62tMMGFKuxJxXynIOh5zn+imDbKzx9z3dwbMdrwNzYboqfZ4CGLEN/ek0KWeSC/v8Xh2gRPqn2/T7cLYjPoGjMVf0QqoskcPumNRZyfec8z+uUOfGLfcjPIvwNg5uYMWpxTMDBAA8KsEABDW4TuTqal01PJnH7Z0zdISNS/h4RT2U/9Dji3cR9k4supQkwTCEwdAYwXF0ymiA4gas3zKIwgEkxECwxKHgxeG4mGkwXAt//OExCUuwwIsAOvauEnLDAIHDCQCkx7i4J0DaBcBGQuQcC4NAuruQLWM8GgTEvzCLnCOhXs8jji2NV3Ahxn9GtsxrEWVXk4VB+q9sHgo9W6KzBBNN03c0UZuaHDckCYDjNTZSKKzm8zTWggqyjrpoJMyvX7/7re+zut9n3r9HdajSanUFnj55aVTKp1oGAeCinK/0E6p5dLxMoDoLBBgAQMQJFBTAAACXyYEYGxiqIdGPaFAYJ4ApUALLjkATRgi//OExB0uy848APYE3QD6QyExTIwKALDAtADT5lUBquThcG+mgaMJGrUb5YQxWDipIwy6lPEpVHocgvVPZlEOQ5KMr+FJhXv1bc9ftyKllMog1y3Ups7tebrb7vvOZ/rn4YYXrHNbt0tru7ok6iGIz72nd2vaq/502u+fa8n/Te9EIDfRTAAhCKOhFOEESKhCCP9aJnf/3qc9VOr0ITuRDgZzImdSp8DMRrjtVfEQIDQdGFABGpuHGNghAYM1ZjAc//OExBQsu6pIAO4G3RcwiCEaARlbNDAYEjFMDEB0dkIqAK9XBgfAOe/MaiyHieqar9y4QAdmtnTyh3tVo5Vs9ryPtJe7Y1T3K/Ncr1qsZ3jWsyDKr23T6w7lz+/jrX6+/ez5f7+8/Q3Opm7ZvX//MsnP9yoQll+Km//CLP57nMz+b3mWY4KUyMuHIao5lkZOXZ6Q7hPK/HN05tKZM/h0HEFDsngcFyw33x1nZHiUIHQIBAcmIdvmEYYlUBEhxgFz//OExBQsk/JMAOvG3QrAt7nhbkBBUR+f+w/S2IZlEuRAIp63xgw4GHMfAxVbHZ1CW9V5s20hQGGPijjvepYL19ur2dwisseezamN1kpPrGMb3ChQ927jP5J97vAiwRbCxgSZeftzT3Q5Aml7mIn8i99DPis55XueehRn6r/kxjEeRJRaj0Ac939wOEdMzwNXhTfPTdmmQaETwyEMZEUMEYrwmbIMu8Lqsv2/Kn4bCkIYTAJsRKHjy2YkAjjGBAOZ//OExBQsk3JUAOYGvQj0LFBgb/AEMEQshD9wOQDe+Ty1TpCpwXvkDqlr4efh0o7fx48zS3Xi8jzsyzC7VqSykwsfWxwpN/Xv3bdnmV6LWMpyX0mVS9u3/O0kUw4uDBXRGrISJpn8hEEKm1EWGKde28OZyJmfIXpwv9Tzdi3sk1ziY1c1RBAYZQhuLEgeDQd1auLeEkCSSo7OxEodbqfaIXN5L5GPM+t8o203KrrE4YZ0ILQcNAJcQIBABBJhhGG9//OExBQrkyZkAOZQvBKCxRUmsoEEoysMkEqzyENH5O9C+KBUs4IiJhFfy1hqtiyaJkAxV32XvlDcMR+R2K1LD8oospbT0+9U9ndiPUMrp7uMOTkSvS6KYVbH6sWMM8P7Y/GQbCyKDQbgvFxc66y4t+++Ip+bn/rX/i9vvr+Pj+vS+6f/590eqiVrnsZQ4gxLYHDEkc8Iy9zjoY8731xRMPsGNar/rtrqm5yB3EMLkI4aVyILsyb8EhgsLUSCatzw//OExBgruwZ8AOaWuIhABiU8mBgssOpmkyaBSdNiLE3tdkCFzCHh5PDEBAkIZdiCk7J70JT1LfwPUuWnInN5XYhLP+tVl+GV+9G8/yp68ippnAbx/P26Tc/NHyhnEqGjZPHCwyLiKSgcDsp70EKm1pv4aaKGidpn//////////p756ZUVNz//cTPyw/nOY9rHKmjXmjlVO//IV10Vn6VAnlw+CGlwp48Qhpj2EJDroxpW4GDQCu34rN3AB+H1Cxm//OExBwtw56AAN6QvQ6F77mSJHbQo1PJHQoNAVJVs/QgwebAybMmgffl8yi3LZfng0l15Zz6GHLGGXy2nt5fNRON55QE7dbDtWtDcUsc1fpLGNcWHP0SQgwaEoSAJg3FzwhOF6klLaGpiDEpBYfc1////////2w/lioceLNfHHx//PNUvbrTwrLwaVOMRWN+uv////5r47vhz68S6RfWzlWYLepHmXrVvTFLDwUATPekRAbWsIATGNHGozEImjYZ//OExBgqhDqAAN6K3AzhpZGjuhtEC3RL6Fg6zJHCAsDA0Vb2cQYkMATAkmSTEZYSDA6Wb/zVh9XD3ny5Ko7b+5VsQ/nrOlgKL2/oX9YBCPpuTcQsY7+Wz+GVqVTdvLKNSyH5dPalU+KCrlbqrFO1Sv7f///+7iqSUR2c5Z13SyddmopWQw0oM7mEVLp///v5kaant+/zbGVite8p7SoM5Ak3ACIZnGKdmIsEjcPKGmGK4YNySklQJHDn5oOVm9n2//OExCEqlDJ8AN6E3YJg1h7Q8rnrUcQnBj+N9swSCA48seeeeBn4MAiAUGAIrjMtZYm7+sZU0qQU+HNvA4liX9dlu0CamLUAwir/catj/zxzsc5Qymki9rV2lrZ5fp+2hn1K3///P/0tdzWKcQw4yxBEMpHR60Wh0IrFMMKATkctf//9vu6sjvT//+h2uzuOtgMCDnBE1cKuFd4CRBP5E2L0dShIAEHQ9PRzSHcxixNhNQwPgada2CCqJNcwwupe//OExCklPCqAAN4E3a7nEvbvRJnUCUW6qqIZVh9q1EU5R0SkJ6xWcppTqSiWSRmySEN0dC4LEZR9vuVNUzzzyyzqc7Ul07T/r8sM+/llv/////////t90YCByIi1VHyb6Spt5G7f///+b/+kiuztPNSrKJFiVDGyiqCEUbuoJjAR/M60A1kCAgXqDiIBGFAQYpCBdzKMLzMKC8xGLjHIGiURlL6qAqavlL8I+w1TFjkN28IZcl/ZzCWx53lMnckE//OExEcmVB50AOYE3ZXgApAgUTuTUzEnGmZbZfZiT/Rmxnlc1l39Z7r1r/LMvllq7TfVx/v/vf////97ge///1///5Q7mKyV/b/6l92b//////ZM2bfmrQk5w5hFsGyqgx5H7gVS4wUD8xqy05YLowlBsDAGYPCckwvkLAGGAJFd6tiAATAgC25QY18aO4t6jxmE+P6Vk15ITenJluIXYW5LnBnFfK2P4b+emYTdSSaLiDhkf7zV8u1ej0cpS4pJ//OExGAk7AJoAOvE3b72+N5+f/0qlk/z1Yzb5n1r/St///8wYrlI9ez5Es/uurtX////v/9Orf6ZWHQd1KVYLY2Y7SWi9jADEolTrogxAGhheEZh2A7P3HX2KgGFAAREZ2/EOSlP0LwfkHFLbPZwlj+m4qGMkOOxpkcp2I9PoW7bFwzOEBV5u3yqtgVkFUUfNce8N/SsDGNbo6VzBW8lK/WfnGtY1yM/3X66f/9UJ/U/nPoRqorr/9akaydT2Z1P//OExH8li+p0AOvE3SF//8jUPQk/66/k6Ok4IQvqxouzaSzuKmnhYCEwVTSQRAiXUMCJEBQ9mGYHmHIGDwFKpF2iIHAUaRhIArXGypoWISlUEJjEzZjUqyl0CvdcrZSmKvC4kUoquNBGVBVjqxwO/u5S2RhEFSixldylzLXleSizluMAqdU8XjfKWWN6mu8lC/juW7k/Asir9y3Wt0l3Kqiw5OEgoW2sUn///xx19S+vdxe/0lo1Y++iTbMoba2C//OExJs4TDp0AO4Q3LEAVEcGhiOj72xcPWrDhg8UDgFCKzG8S3fMNfqoweSRYw8s8VjSoiYhbk9DIeyxlkDDxUYDwSiIeIgqhAxJVqkXLGHKgcXVgletjOWP2vQxWojgZ3MMAEMBzs7pIuIAmRLmLwS/cuq1HMFksfONfopUU/+ctqccP8WXzhR+s1t2JXNqvj/VsXcVfHt/hOqSV/rcFDScnakHDX/kjXia+LWHsQUYrCIKLChz//0EA4fkOggx//OExGwqW66IAOPK3QqORTnUzqy61KYcJh85jTjFFw+gdFCCZBQhGqrktMUwiEUrWvf9T/rOWnMNdnIRTCDF+dR5RUC3flrhaZhKmZypXlENqqAEPmwa0TEJPiD5h7adpBhUzJxXWXRakQSBugcVL2nBLhkL2ZZOBAHFMYpGwxQuJT1upyRHl1UjEfFpa1F4T4e7mrrdkie17ItNFv/sVP61qY//xBEAzyFQ4FQQXUakgtJP624a1/laufaFGCMZ//OExHUpm9KAAONQ3RO1lA2JPtVo6xFf0m2JIMksaoqYcZPPX//9/X9//ctxbZ8sa41pnYf4ZkDoV/v/fNKViDLJmX1YYcEwabzsl/NDhAwwBWHRnCzERGCgUFmxNs/thlwftotbZ1h4p0NVKlT0COuRFj7c1TbEF9Mnkd9fOOwsut//NL6/+cSvGbNLf+2a6//9fb4W7GMjt2/UzmqxSCYeAYWKVjXEh///X95my1YSdDh0VEQ6yiQgLWMpRIAg//OExIEn8850AOPK3ejB7IcVMb02t6/7+hnoaUSEhZ3xFgQoEgrKLnk3sikxlIBM23e4v6IhQFXnw3mWEGsSB4cBNVLmzJhQa/dRrExQyyOPs8z6w4SHmjEagvA1DELkXgKg2ACgXw1F4NpKaUJhEi4G4fiydUe2bS5qPZ7HOYcrdtHTpVD501Dpz0fVDtNWmo6X/T36Ue//9pqdmpNNVjnY5UOodNnHHEz/hddCKPyb/xVnfCKP+9hQ3FE+0LvO//OExJQmOwpAAVpQAULFEcN6OIgUwqCjBZ2EYPNzD9CEwmRUrSQDpRgAAwWTAsQBJobOk03aWBfFmqY7T2vO+rpNDcehukZfAUUSmQSOG08oE/jpRl+pemb8/JWuByUDKCMthf57ZPFrPJE6jnS67TttErEUor1mVWc5ndPBFmIyChtbe6X2JPTx3Vimq40Fuhs1qftFnLqCtUt35fPUs7STOLvSqpM6wtUUvtxPc/foZ2xIK9BfvxuNzNbuU5Ww//OExK5GxDocAZzAANSl/Z7CCrOqCcospbjMZauR6dn49SyvuVq3PSnU7KKGUSiZv93T0kzGK1Nbryypbp8pirC6m9atbrTuU7XmoxUsU1mmw1Q37tNnKdzteJSigylNa5PVa261SleW3GaC1fl9ikqfnbxlGr1/GzopPWIDDHSDBXlaWDkE5mBV/RfSTSuj9LeYuCghhx7syJfN/LRoh5xYphQhxRoBBGAGmURiIHS1M7JjkhEBNYGCoFuyXANB//OExEY3o5I4AZnQASaTQ2s3L+u+pcvxr7sv07n443ZTh/ce/uMR+fi8Qrzta1dmblNj+sfx/5+HI1LX7j8qikQ/D9Vd8rZf//+//Udge3MWb2fZ+pyx2rVs6y/HfO9/W//////6fOfpOTkrrUcor0s/GKCd/eOstdxyy7rdbVr//////////4vK61ipX1RzkrltHLKk323Ur0t+ku7YtbZ1ASC/ygM0O69bWMOXHXCzrw1qZr/KpJp/Ldp6Y/PX//OExBolkpIQAdpYASX2acdtEIqOolC1WiYiqani4m7zJM4bMs5ahaTpc1M2e2nn12oyYPlKj6T3OfKrYYrbWwxtGrJ97Ovn4lltc3t258fM3b+WTVTL23FR7uGXDGTUTzyu9ePlxi4+Me/LL36H5R7O3Vm//2y5H2X+seIHb6R2zaUz67v6ImlqAgZo1NYf6NRm7O3ZJFMJ+pTzMfrSexLMonjfnJ1BUVJk0guCaE9mhARIiieT7ErDxhRgnFex//OExDYlqtoQAVlAAelith+NpbRBgrYgCShkXbCZJ2RNuYQZKqNiOGvn11ZEuJS9qpbi13mJJJiVPF6myVRmVu7VUuZmiNLhJNlKT08bexVeVMyc2Rw36ctayyaZr9eR45KfA0R15viPvJl82+1oPXm4YYUZIVzcnlZlABx2//EnEMSMLg1RzC6RMDGmQNCvChrzErlwaBPA0KgcdOIx+5OEgZEEDAoGjLgNUBzgEg/x2F9BMwNAJLRBYZALSBDw//OExFI55DpQAZqgAOk7dBbm6FYyBiMYL4pkwO79Wv0UjQqEIRMbZIDNj7DAgkYJifuv6RoZuxgiVyLuggAaIAzQALyBsfGTDbg20WcIHL4567//9zZrom5uhNE6EcwZgnySGYHcQEYwUsXRz0g+gN3iE5P///+x5N00EGTpobshuphKYWTiTDMCOCCE6LNHsmBfEFNxSgrQdZDywQQQAJIZBYIePGHREgc2RwBRSNq4C4osEZCBQjVlcXeyfxoL//OExB0mM9aEAdlYAZK5uVZ0p8wYlaM1By2GpugYrlBIF7HF6Tl4g1pA67teX8Um6PWr2xX1fM9z1V+ypprXMrnm/7uW3Fo0bHkWkpOtt1bfi3TH//9/11F/Nc2+102v+nWm1xow5vP03Z1w7p17fiOHPnjdO98UrGyL/vvnb9VDHnx8g+zgH2mgfaRR5Is9Ns0hMWGqlf8xc03sAxIsIO0qAgyBpXMSjFaADFVULVy2R60up2KNWq7QaVjXeDcO//OExDcmo+qQANPK3ZUO4TAoL11HZIOIV2NyiyRWM64Ta6tR5THpT4+aa+vfer7vel/sUFRUWAggICrq7EdjqpkfVP/////9fmUiuIoNFBNvcYooHbFcn////oWruSlldaKdnSQrEsHFFA+1lZq/eMXWqFsBInONCVO1mTovHIdoUp822AASEcAu5MvYECBSPubyD4CCJWu4ClhZ1Iqzx1MnyVkmQ1eT5CzWQ11Hup26LeHGVOKv0+iYjM/c15ve//OExE8no/KMANPK3cF48ni59K41TW4v1S8GvzujMHgEEgoGYc7lMpqtdSM62dv///////Oachl0RFOR2EhhbV//+m/mRFShjzFW5qq6oYxFFKDzCwgZzL453GWFx+rGlihJ60GH2hFQYDkqHoOlYoGEJuUBDNqdDmRM96g+AwMeE40c2z6Rb1YZhAt6aT0CAM6jcticIYNb5cljvWsd08Zx/cr53u5iW/hlfnKXn83z/wyy1+eX6+pZrWuYSwGF//OExGMmO96MAN4K3VhAVEjPb3Y2q95v///T//67V12LdUQ9VLNf///Sp5DDzFYx2ONyHZznMqsp1q4wxofV9Ab99Ks1tohggfHBAihG/DEzBBWJkc+s0oIYQMAGbShr+wQIgqYBA0O7sEhzOKexoocFs6rWAC0o6/NNSy0ITKstPin13mVptu83g6uOfMZBf1/IjRZZVHJw/eNb/yytd//s6/9X+fqo7OB0EW+3+jutn//////+bd1ZXN1/5kb///OExH0m5BZ8AOYK3f/+Z1biKGd2VrTCTtKIs+UyFAVRxiKIqKx9oiNsnVqI2ZWvIwlJI62HgxhDRT4MCcw5NwwUAJ8oGW6CgKMAwGcOmWku8wQAFPHOOFiK3bL7StrJRWRUVOhiLJl++SRz57VqUv9S8wzqY9uXH3w5K5SzmT1qkNNShM9R2Z2H7OX/nv/33nNdz/WdNLamfbWb/69qf////9v/0StEMhrVk21IZTFNCRwKZEGv///2fy60qre9//OExJQns/JoAO4K3HeZxEpUFnj4iAxGUDXuYBA0KCKYjmAfrBWRC6EAkSAgYDk0YBg+AAMTMYeQgiRBxfrP2vgu6whtImSnF+w8ueRtcafFWtw/BjB3eYY/F9pU+/kCXnBqcp7+dmvbqSGjlFJcfSFyinvwbDl8VqEYHEhgoOGHpucx7HMhxjmFC7kTjd/9NF///2/2f//0ocvU9jnOVj6sdoSEVirA2EBjf/Fhb1uDNMsdTZKgKioF5iMBYMAg//OExKgn4v5gAO4OuCoSmDCHHUvEmiIfiwCmAIKCgMGJY1GE4UgoCmDK2qAmBwGoPv7DrWgSAqJQrZjDj9BUi+2byOlomdPpuXNaUbQcjselr4uJFMbXJJG+Tk7WhmtDESuQbGI/SUlaRyyX3863Y7Tzsdjkp1g7NUzuZN6CyFKqOzs+iMr2t6//f6fb/+3t5dUc1mYioKiog6gYVBTmJEYd//3f1QsE5hEAqzx4GBYpjYa+z00XAMLLfI2hUCjA//OExLsoOxpUAO4KvLCIxTCtT8LiCgSEoYtmd0hZwArhSHM3hbixEiZFXQshLGlROoYCmBvCeqhkwrmJzdM9prH9KxxWZdsTS4YjSsC0WGamkIsA6JYXI0FsRI/Lno5qGHOeynWnPSc1n5z2ad//v5tDt//72t/o81ebO1ahzxEkpUlHpITHf/2/6lIGAKNDaBQAMCAxMBxyBj9n5StmDIXoBlBhYBhgGQUIJhaAkTgeGL8FP/D05S0iYIsFmjgQ//OExM0mKxZIAOvUuFW3aLnGESZMQX87dJKpLXcmKQ7DL9S/3mozVasqhJxJ5KtTmLtZ7J996ybBSYhiQi2X4IYosrZdfeXggOCJglCYmoAR4Wi9j6cWj9g1SiZJTEDW7Uj6nniJENAqo7+oS56spuvzdKBn00gDCovMNgEcAhCGTDg/Nx6g02QgQCyYXpijwWCAUCg6+komGzw4o++5fRKEHCETwy7OXVdBvHQb94FYnZZ2ud7y6zJVamUvw7jo//OExOcnOXYwAO4YlESdeGJqOxaKSKG5a4D6SyibnKpVLYYm+SrAVEouKCoOngWFQsIwiguYZRT1bHyIjtbTTcO8XcdUPqYPq7e35pJ7VOocfNu8wREppUpNT7yrIZaVXeyvz8aS0DPocmIx8X++pxZme0R+CD1VXyFaoHzadRqqe33tvm1BCQiQyEoosYQGTETwi4vdkr7L/bRY0OTjYGGtttWYHPT1MMgAMBnRya8ydYdBVMNc65WvqBkpy3Kc//OExP0wst4oAOYQucPHZupor5uUDuXDENXJVD1+Vzr/MMZNHcKWm3utnLuW5oaohAAhEEeiqD0NieJF4FhBINFlFSQ6OYesrPb9zzV9rzzMivSQOVeahne63pYu9OWmYofprdTdT11DRHw11UXHEa/JsFvBKhn5c0ml7sU6F6/+E8l/+YmuG+CbhYLqMk5MbCKBSwsCQ0jKJBYalDzMBbWdhnrlKGL1ZAYUI7QMLjywy8A2IgEBy+TMX8Tqpoqh//OExO0uWwYoANYQuZNbLgqmZcsoBDlG1iy27Fqf5da7lcuU1LNS7uerdjG3bmaLslVhNEEH0mckWukqSfxXpJI3d1etW3fi/kJO/v076zYr+saPTzs1OZBW7mVJ+5u56f/N8xjxMs39szt/2zvvd851MlsvlFBybfPofpitd0s5yxPg+2OYXs2yv03xOAzOErSAgF6ofh2parSqfvVYCkTWd00af5hxRD0eiMZMCVZ2xWNqWiOF7PrVv4+tpsP8//OExOYswwYUANaMuWLVMtDWZZuutZdb1qJK90P1ryFsfsc5XrTfcdyatUQ1Vq6eW5K2ae2TJqskbmSfczmGqlHvneorGZtpF39Si13j+sq9z0872S+1v7tW7leOjpm5L1WtTvn3Zet7RG1U7teKbIz+SPLjFYzZPm6p5RhjfIiXYidDrL+4Vfzzr3ceQ7T0ONFlTTZhciQksLZQitQuSuUGAu+RmKEUoiKeEbKIa5ttMNsICVZ4icH0Jp8ZDDU2//OExOYp9BoEANMM3WrZn5pJJIZoVWTTUce9ogxI7WQj85bY+zrgYFh3dSAFP0mdhKXIITH122iFElZUvhOdKU6GzSDIk9uXft4ORT3kVY7I6qUhwHtaPQLhA6sb8ienEXsxkzMNk6+JlFI6f4A9/rfSWIx5KleaVyZ0IMbic/o7VSu9Vubx+rqZlVugq17tPHs5bV+kp6s9PjKTxfG806gZdl8yOVSQplBKZV6metKjF+Lx46ccsLaxiipCPBqg//OExPEsrDH4ANJM3WK4ucSQK3DRYuZhYYaejw9Ltm7N1iSqIHHJEQxb0ywRnYLVPqCUFCTj9tBockkeeBJGGPSW21GJVY4xIs5qSM7vaBrELo8iHk+a2sKKKska9YecuKaaxWPDSQ0jfMHHjfz31NcO0uYBZSLnMXyJmIjkOx25eRRewl000zNs4uYjQO5LX/h9+5fP4yi9XjtPSU1Sj7HHctlBITBRUWcoD3FRC8M2SoiRHDSxY73rLUfRsQKI//OExPEvRDH0ANMM3ZxsqxEjG0qTw2mZgusx8rUS6xlC2iuUEDSlkyB58qOTpjtW90ikDGKSxpQswM0uswCgJrTy1HUfuFO0YB4SPlMsi4iWks6yXeTbszEb5qFnmudG6Lf6fbXu1+bZ2rIkdKPeY6nu3lRfpSPSZ6LMt59doORsotksvoOdsPV41ru9xs3GkxUbYTuNooHEJcgEFq8MI7mcIsKuuG2XxZ0GZthjDGlqu4ICKavM5DyNzjUht1H///OExOcuFDn4ANJM3HajmcZlkpeOMSuB38sRuGJKmPFpu/zCfoOUNeSuXE4tL5Hq3hQw3A7wKXtfzn4xl2IVZvLHLkxZtV7+Pcqte2fN8ti8MyrV5dk0TjugkrUMmN/jXZ2o0K0UoWeqyfRW5iCbeVXrXBdnk3TZnTg5t3V2jZhzWpDXbk8d75eV3rvsW8FfUOx0F6n6hBi16nsKZWZtS0N4q/F6uoQeYcGsKAhyUZzMsTOlDaMjQSz7hDxPhReK//OExOEzO/oEAM4M3ZkyAQMDsRUFfyUzsPvQ8SA6cdtpsi6xJrUZmX9xlkaiV+Fxy3bhiSRF3oemm4t1TjZI1uN09WN01tuTT2ISCOQHSP1KJO+UdWDTcSqBX2pQG/T64ySjnr+9Y3K/8sXqm9VaSbUnMgZQOgynSe1L473OoSr7fvNle+KjMFa76cvMww0WNKI1Fam4rGlmECF51Z8oW5QMCsnTBRla85G5emG6mK1/t1CEp7LKvbn/sPznagxc//OExMc3S+IMANYS3P7cdUXrclsYXssSvN7PdKqknkAcawtVLLGBsAIYG4AxhEAOmSSiCaSaD5jri3GJUCiYLYDpgWgfmBsE0Bg7TBBApJAAkSDABAFQqDgBHkWHh54HEjs3Rw5E5c+cVrw3lRSifm6bKXzcelFJWsTSDjmNwgR/8qGLWYTB04/GMcp6/1Y25EZVXCBhs2VyK/OuW/daWSiclFibp+09Pep9W7l66fc5BpPJZsjFFDXqU26t+gzf//OExJw9Y+YcAPYW3BUxUTv+qtTubvW3xEStD69xzhazdNMd6a7zbG4SAmA8FhkKyONAJ4fyCHQhkYfB3mxGZJw6k1nLv+/0/+JKzcgC1iMH2Gj3pu630funyfemvKa+HwcQt5tOhU8UcgEBQNA/mGUH6ZNUVxl2BIGDuBeYAADQEAOMDoQoxNglh4IRoTKSoAGYBYEQ0BI9DQLaOirJrG67cCRaMcxWg1zDHlmN0+WrENxSgld9VY6KYJetSheb//OExFk6xBpAAPYW3EONyqnl8B0+pXffenhu/LcEM3YjMNxqC6Psi3fxqWebtXtWKTPHCvujxuuTA8EANgEjT67d1UzYgabaqKr+v+////q2cTse+2Hzo6yAALIdj4hpuTyYm9UPYAZqSiQmFYJRxY+4lFhx8GsU9/Ue///hns0CsuTTJbnuuYuKe6Wn4Qaomx6p9/EKn9lQaLOW3nIfirTlbyQAggA/MatfEwGAVy5yN6a5gCBfGEcA+mtN00hK//OExCEta8pYAPPU3YBnVtUeTdC8sl9xQcB4QLVaif+NPphntSKwEMV7PSQcRHUliwWDW260ib8m7HDaJaVfUNolNq3PzCvvUvvJrVKbkzhUlVQwXghyYq5hrJee7en////rU43HxcSA+NGo6dLEquROQiHFRBiIsJAtiCICdGHgX5h6E7///77nHnOkhJ5hhjmGHIa5xI5PbPZB0YDilhVaLxmACAGPAFjgBJgUgeGUoj8YTYCimLDS6pgRguGE//OExB4tdApcAPPO3Xg5goDO5Ujz8A4BNekhl9MR8SPic6gsWfN8FFmaDAUDy0SVDwf5fHCG2q86YVbxaKCaZ5ASTJnWEkce65gmknI+pG5ykx43/xr1z9fPy13NQbBCD0iUkiSdvZ/t////7nIaPGsYOjxZ2LlXJnmilCwSD5oqGBQXJuhppVzZpjU//99dHnVHnOHVPZCppiGtRabbXlDSYdteXzNP4hPMGKj3zM6YQMfB06FojAAYUvERAi2n//OExBsuVDp4ANvK3EMrMHGzHQ0DCicD9vQAkCwlOoUcHwAICWZYGNMOrQG1iFgUDhZWgTY1VWfiohxrx8w400SJhvcnUCJWArKUpMrIMe94cJQUveOwPNXy/zSXe4CsAgowhDgQAgmA4HDgIdXZ7vt///9/QOCnIST6JkTuRRM5jtpZG7EZX/0K6LqdGQ5+u5LHOJh89kO5CnfIr1D4ucgopxc7tqeomLkFKpm9dgBDmZJigEBaVNxt2DEyef7U//OExBQpVAqIAN5O3X/CwKcsDJJSujqipZ0BR2tXoBId5cLH1HlxpH/tIuBwECxuwwkMLh23ZyxgW3d/ThV98xqwTT3/5lMVame+2+7syl/bM/zHGvOfz7U9Y/PU0ISR5wmACIx56t6/////9EPPbu8/6o1Kqx7KysuYzqacY0gah9Dtff9uv+apvaaimmm1TNZWMPKGHmqo2P0HHr9q3hfnHPMiHjkwFSyX/WMKFCgHgSHoLIAQzWhMyFojbl4I//OExCEsixKAAN7QuA04IvLpMckcRBgCGBD+Xfh4RgS4Fzvu6CwQjE1GoZeN7VbVIt/P51IafqKX8cIav3tdlMNS+9Wv6gss8aSEJTCodFgLB2PLyRBE5syIIegLlnHA2EARZiNXuvrf+P////7Tf+3+OF7+o+n6Oxlw4hiprwQs1pN8Uw473Qw04PBQ5FB7p/oS7b/USIpa0kWSIhJVxxsS9kBh5cfWRsXk0xYAIoaCNselsERcGHZzJ4cOit1E//OExCErWyKAAN6WvCM3UP/BARNvpX1uQiEoR2ZY2wFDGOJOItBs65S4Jeha/a9+rEIft547j1L+t7u3L3440ty9hclUokc5OR6ZdV6oEB3bjY3NGSieNbPnyaoXjsMzxKe1jHtll3F3X/////P9R/z9cX/NXxS07XqlyBPg/KDq+oddTFufFnXPJkZcuod1Vhv////1KAA5Svs5ULYiwZOvcUplGEag4ROF2Qi20slDmX2GrIutLaSGgsNFTBfi//OExCYmgxKIANaQuFGMYkReaHbViNLmMCERFVfFMIkypm8P/+WUqq2/1apruf/+79JzDcknGWSKgtDoRBwNCxIEYeEYckih9uabNkIg+HGJ1xE3PF//////pct1U/+8f/HN/kIPQ0oyVPLtK/4/0au4QfA6CiRGFETn////pnAT/G5QwUVQs1jNBTWxCUNLaGIw4ycjUKkM404RhRlq4yuCLcxMsRRlZJf7dpGBMvt0lLGn2AplDX7v3LNBD0Yv//OExD8n/DqIAN4O3H/qVQ3GOb7jrPv712znreN2NUMvzwynpTWuy2mrS+zL7/4TV/le3pC5I0fOR7f///5efdjbmMn07zVShxwSCcw45nQdOnoy+6K2zDZVQwyRRlpX//p/////s/nue7npZSvHl63OLqMKrDmQdKxyBUBht2jCEJAmyyejMynsY6PCwhFgVquSR3vT+rBfMBrYA4gEYSjK894huoXHtisJOqPdPjW70z/JW9927dBvqlatm4Wt//OExFIm5DKIANvK3cfUK1MW3uw4ziQDAYajPT///9mVkVyqpVT2rc52SZLC0pnHi5jjBzM3ZehHIQQMVw4YjnY9CNRe++/qRu3//T1m1tI55xoeHjsFxwx7JSQFGMqQbbHgCIjIkMVvrzMLkgaI78Q5bpoZBgJMPAWzjisU9RUO9f9XGVuXVmAyC2sDMrnBmVSYcn/n79WKqXWn0MnT3XvSFNa2/hu0zQdMNDmS2r19Y0Fwt7WMYvzL3////7qU//OExGkl/CaAAOPE3b+VO9HLqUUrahWMYrIY30AnamJEoxdEf1LQzqVn+b2203+jpqmqGfUrKhqMKboKqUcjsPiVAoMd9+NTR/BQaKRCoTiQdKGigDhwQLplEirQ0+4sS7DuFNKoioxKO/jm+t2nltLLY8DQQ7lMWcrWqWmtY2cpl5KTDDXaDlJW7lHh0nmDYHw1AuLiCjUSRcLCy5prau+v9WV3////N33rzNX9FY852mozN3VrKxJnuziKpcfO//OExIQm4xJoAO4OuFHhcdf/35oo9b3xVB0wo9JB4PPGA0ZUmrVE87FBIAMSBAMM8fQ0WQ7zBrAVMAUB9FcwDwCmespMA4AWFT+qywEKEpunhZO5Oz5rvKdOuJSmYAcQOovEL1s+RUsfE2YRzJlb+bezbPkxHUhIGNLFDwnBRiEFooPTWS8w2yuyop3bW1Nf//sczzDnT691/Ws1lNo/zTaKdpPc4iOHg6YaPkP+hOPBOpjWsAS0iXWZBX1Vg1rU//OExJsl2wZgAPPUuMtYXWYOBhnnEn3ekZ3F5gsLmUB+Dgo6AcBAEGla13sHLgQQAcAHonpe38NjcCYN0925WODJBaG0fYuZC34Lkkao8Pw5FVhWKuWMdBnP7p9RvHBwy/KFnY0UEo/GQwKhcATCEGI/oh71s16UarzK1///86bVqzf9sy6qp709Tv8432ORTZxxMo8EZbJ/3y4qpP7kDBJQ8Dv3i6FbI8HVhUGXaJJzoJTdNQgoEDHhWKic1tUr//OExLYnMwpYAOPUuHNfqunxIBSielopzhQknI9SWbdv3JTP2tpc28v5KkEGCP1iYDqOpi7E/nZmqPHbFc+VyinZpYFLCMwuPmjphcShwbEgqJLsLiJs97uxmyMrMk3Np//////O+iKrHJVk+/q6Np1RzkYkhWJFRYTAiPfHjBgZU5XfoupEN6gM0KlmAwp6atM6cuAC0D1xLQzFyVIAwMZyEbogh3ZsSAy1wkszMLeqxgkYWIEEiEMQt/5ReeBl//OExMwmmxJgANPOuI1uPUsZbdW96WLs3chnEIdTDKW38csNV6GehuX3Ip3tyxKKK7FYLxLIHgCBgRBECAAgMDdCxQyecpCeOMIgOCBEcEQHgQBIrmk6Lt///1/3f9uehhE9xuTNG9anHuxQ9zFuYz9nRDJ4iKPYgqRBeAUrcNWLObZ//7aKfVky9XCWSIw+OMCbMDgSbo4KVo8CRgyURlsByuWBspLigAIDQsZwUEaEpswIGl0DJXy278V5bPkg//OExOQqoxJsANYOuKCAbQn5fVR5b5KIJhCIzCo+iaIiqI7Q7MZjO1rQxL9YS+TO3ZtyrKIr9j9SlxoVysnlmLsuovsIOwMyVx10wOrbcr2pNnBb/xON2YFeJQ8xGDF4kRxBLAsC8bHKRu7uggvb/3T6SkFMzfXQQQW7OgmcMCYS4kx8Y4wZLjmEvNjMpqQLxQRZTkwpS6clY8hgCMXCRJwwA+plEnG51BjNGxcZXWpS+uylNZaC0+r6+yamTsta//OExOw+1DpkAO6a3HWmyaRoblxZIHkykMIWF+rGtNxxYMRCA3jKDRQCL5tzEACFgAMiIFThCBkaXqmNMYAEAQT3ehQDuM8HodbLurESI49q5ihOiRtj18hbWpjyiYx3qhxPjFdQpd0xh9LNApV6paMm3q6Op7I9fP2F1HgXpLpmiw4TeDaIgPgJwvypRCouJC57GnNen/9Fs7oa7U62zXcxZrmqFwIscH0Viiko8JB+SMccxhrI+ppo+HlyIZE6//OExKMvBDp4AOPU3N2No3b/S9Oj2///verotkY9yyGkkqMCzDGTxSgetxiUQTFuNTLAAU+mkjIEOGFQKMsQxBQaLoqQTgFwIMJQMd/c7FdeFgvnO6bj2h0Yk6CxcZ5PNBX3mPvdV6mfjvlqv/t93091KuVRTwoEfW30K14LLP898xKploWYaoCQ0VhThUFwIQ3lPz/////HErNs0zu6zH+QOosOiRQPAAgQwaIwNhYQSZQYxRLcQvY5710i3lF4//OExJovtDp0AOvQ3Ofq6///uIji+b/////+NY1ccYKg4QOUXEEWEojEBMCkVFjxFFZ9H7d2Xv6m+eriHRXckjvpWjgMzAlB2K5RCISNYWkLjRiySJKs0Ycy0lFUqGwKgEixNq2q+6t9w5iD2r1T2b33w1lNXtDzrlWzHadn3/xXTed2zFX/vsDnXbfvOv3vfOybtr194HL0pRZrDr7C482A4EAdDiIwZfqSx3K4By0S3yWIaMkGhXHccB85gEEA//OExI43BDqEANLY3M/vCZ+kBoWKndhLEsD6YRDkzM4D9hym+nRua+wsWLTN84J8d2CZJw60rWbkV7wGBPaMDAwdM2nLv0YJBMMIjN0Sx3XOZx3c4OFDTGr6LBUBnyBJgBRAlhKe59S1ztjK1Y5/Kz6fXb8raOu5KMzOyry06b5Fsr7n3cfXi2a8p3TnGy7rdb8ytTUgO5t7bb6gu4025H+HkTNI76C2rbcvtjE0tK4ZkTEPFwL6ztR+ltOGGXo9//OExGU/vDqIAFme3BOp9VpYvBPkyPs8T+LIsyFG6NxxLYQsvJLSdMS5CrSBriPtxfhOBSY5JzTYU4dCYJmQgbpOilAECGn6UAspCEyZxIBiFvQhPj8JGxnEb49ZIwY6tEcDpYiaj1sojywI8brAgx2mARo3VlLFYchYGtgQkzFaoCxqEWs9D9LaqV0vHohJJ0/ktqsOxdKE/DtVpb393bKlkiYCHM8T/y/9Zao59foZZ5F0v1X/P6m/18zs70zN//OExBkmRDqkAAhY3KZnPn520z1M7aV3KT/xZkMa+GX4mr7zusKvXxRwNH1ZK+Yc3HZDJZTLQ9oaeJQPzSokH6wtQDmOpupUguwRxxCpCq8iINjeL1vEgkD6qMHYly8szxudGypXhUPI1S6NaXk504kjJp8XNKatZGwqgZ6OCVlLXxe4tXVmjCxC+LHvMvy8R/0Vv6f9Qf+surf/1r///8zszszMz0zMzs7szWf2crP9O0ta+X/qWuWzp7VnoUPo//OExDMmpDqkAAiY3JozVurinAsWNMJLqohDHU8JS01eEQxQigYDRAYi8NR5EM/TAgZJhxeMi4fDwmMKhwSTwiIZgVWSQtL6smchLNOFRKMirJKP2zxbVameswWrOo/QF6NIy6ceudhj6aLzjtfrWatObl2ll5Z8/9qfPLy////7/P/+v//vP/x9fW9//71v/WvWW2Pmt723XNpsyPWxkf0bFxCYlS8UrpXOT1X6b7KasUv7IX461ctL1EQpZXqu//OExEsnPDqgAABe3GFJsyfOcyHBFMQkaoWV48GQ6YieRh3I5XMSMakwpZWhubVw3n4xq302pI6ffKdkQ9sXDpRWU2LN72D4y2/cnb6Ll2yvrOUBy3AkizzZ1Fxmu4r/9S/o6y//yPHutTZf////t+5mZmemZmZmcmZmZ2u/9umu5+WtW0Fs/o3T1bLVF0VHFy3UpkuLcR5ycmJT0t2HVWDQ5Ka9GemRq/HLS5VAR0ROHLBJEOxXKCNCUF8DtUEd//OExGEm3DqgAAhY3EQUdixOKTU1gXHqUkmZhVepxWrOiwU0i5O6LT0gl5ZV8eHoU7R48sKS8xPWHWz6AvLbLV8cpFzS7maVMH8hjZTKUvcAUZjJjykRCI/cMp2u/RUo8Bd2zZ55j7s13b9002czbzSZmrW9SnWmPrLvehtlZrCul67j2nJ7RdGdNDmNm4XFSJ16sC46XklS0ZFp1tYfEk+EJU1JkyoUPDiiHk9Lqls9iOXTl1xcJMnul4yhiJVr//OExHgn/DKYAAhY3VmUtbVW9VlDUrjHVqIysJJi69q6jZ7h0vw6hzI2WV1lz13Hv/J9nhbiuzCuDh2MvtOGaz1NbU5Nb/ozP168ETd4HTCBQiYFI6jqJM2tjLDPb8rT0wu5Lz2pmaR8tYpnwY5fP7Ny+dNe7IXLPiRJMOsISW2TGjrhUDKAjMOJWMewYdqUZj9aU8/9gogUFRfONmokBOidRMY6WJVSYKZM2q5USuzCj/ZuMf1VKl7atSn9Lq5///OExIslg/qEAGMG3dXbUBFGa2bOK8FWcBjS+VGhGqno0phogDiBDEskMh5mZKWqSsh5eORILL0zHHSkyry3iEKU0k+vB1nahhlIpbhKJXPrJ5Dpve0OFmtWtUhYIkTSjuksiRHSroQKhUlWajspVqqGEmpS6RZtDkkkUuqMLBIOlgq0Sg0eBUClhKZWdRswVO4Kilyxh4aAYi3w4twNPqXVds4cLP2KenKqtfzFYap6KrPEdzAAPDiAJCIBAMIi//OExKgl4aJgANvSlHSJB4Y3r6ZYkGYmg2+MaMCQnMMQTaG5b/w07rXKWJTbKR5G5PuysCCKkzH6qxFfbdozR3o+8/87WkHO63uc13KakFTPOdf/G9ieaHoqoZOMsr3MMz4P1G8qPuQdzDPMetT9jz3v///90V////WyoQHDDx0kNBOE5RkMG5MV//1QcfHO9RcPhgHEB8TABYHB+m5DwApzCIFzDkDjscyQEEwwF4VAAwxBUx0wcwND4whA4WA8//OExMMn4v5gAO5OuGQ7Mg0RMkQoa1ARCApgaGJieADLadNACADLMBIJDrTlBAYOAgdfTxICw4GbSwblWFgyVhgkhuEBdx8k5HMZhWoobh9w3Gszc/Bqscz2q76b79OGu9r6mbjR6peicipKTO5Dk/SUtHKJLX1DlLDsP7ciMP+tAyiVksRiri67HChtkWHOpWePRkSJ5rtD3+L33T6/////+ce/sf7/NpoGmTT6JncfGrv6T096q9Yyp8zLScPB//OExNZIlDpcAO6e3JWuBGHoBkJEk5dg5CXnVGiPpq5vf+9//779NfOd3c4r+NFPZGPE5LLGzHjqR0xx5ICgrnUdcOJf0LUigUek47iV755PuBLXD7EN842q1fgJP8wmvzkZKSPLIjAKMutE5Wth4PJAKCmRVGYUKw0Dl+tBMEhkwYCmpwXAAEMISoG2oKUAQTr1ljxr3SEAg0zVAy84wwBGLTKqI8B2gNl0IRBTyus/cbuTsWi0UlLrvk+tBIVN//OExGY7VB5wAOYW3dcjUnfjdall2VPUxlvLGeN69Yz+1aym8J63P2Lqw3BEQjFxsYdtceda1HZY2IN6RR7+v////5QnQ7hsIslrbdthfeuapNqTrXJlBxihcwgzUdpgPGZrFyZo/mJfM3f/17Ze7tq55NE2NUEzU3Vs2OEg4lGaWTSFhAxWqz55Erc18qzKWq2fpKqIz7KR0QOGcgVNNAKoSAAI5I6BQWgECgIMJB8TuZIFp0O4YuTgYpX7iBPg//OExCsu4+Z4ANvK3RMHMojfIaGEXI8zfFjDpNFMksH2MVOkQd47j7Ux6kMLGEhMlSJWIunrmqbMzmnHFtSC6ZBwqo/k+uoK2qoD778n3Bi5/xn/WIcv0HQDDoIYgjMYjmr/39v+/pmVSkZU/9GfRWul7B1hhhYsBQHMpwMKCyVX9v/93eVlFRIii8xQU4bEWK5BjMcwsMS6oVL4KQqUxJwQaAn1gJa5RcUHjYqgywTWGBgYYQyHaNI0cMuAgoFB//OExCIts6Z4ANvO3TSCiKegkAoVBP0D+EpV0cb5bC5Tpxhgvmo8EtZtQs7DeY8KpAlxMFHRHrOzsEeGyUbGlUp1YPlOLhyVzG8nzin3mm90/+M6jVvfG4gkOBEXDcyYUWdb///+p/MY9X+v+k88u0wcNdC5UbjI4E5U4qTIEioljrEL2V0///a9rCsH6kR1ySFS5I4LiYEcyOgvGrdKERuS+H4YMFfzT1QiBYwYMgG2vKkHLHUo2iVHgRk0RBoM//OExB4sW+p4ANvO3ZZUlGMgTzucx3h2MuoYvZcdDokHBhPJZDnaHiuLeYy4jPkrDgTxXfngQcYfRU9GTqeewYUucYzb1rLv437ev+87z5JotFYZsc87////RFNZf//7seOjoRDBILMMilyM1xUXFQ+5FSI6g+UMEynIWQbnpT/2+lyquePOD5RM5FRqJSujGFUHShykUZyS4h8VAJUZq1Vuar2tGudZyxqZEMmADhsLIa2KAkAV0YGYGrpA0dJ0//OExB8mO8ZkANrK3cOtUQea7UgJdwJyYDkBlaWlQ/aJrTVTrrx5HTkk+B0feio97nfBtcouc55JOtr5i//6+eL//rQSZW6/+///+hurL//6iRw6Q5AGFlMYzzOVsqGSwkzlKhlKUScpUMpWo6lLMYrCQecpSlKHRXQzp6irRSpIbw73Qn/KKHA6ZuDiIzcLPGuTGiIAgYACzMEUmE0mEdzBgFPGzBjKoWKhgNbsHEyClm5SuEEXImtnij0jiNVC//OExDkkKq4oANpGuWVGpSVQ7Td1q0WGqSNzFS/TMpevkOdUpqq5ZUrn9ikkOEpmZSLAcBTk1P+k1V19S1UiUinwKpRjOg7fb8pf7CdeEdfnfxhTCrv+RT3O0p+M8ViWPbls/G0GXhoBqYGGFgWBzEgPYp1ZUsvQlpr842LtDB8/QRYfG6JhlEIlCae5AwpFIm1Ru5wfcHQtXYPdqTEPSuMobstBfPBmG7q0TLSSbSlVHpsz3apGZP7dzNwh1Zih//OExFsnXAIYANpG3EGjEWkFBmMNUSo8Ny4zM+pSIh1KJoJmGIqQ614q5KMt5r0srVK6XT7NiNclJy2iWrz6x6wyNm+bI0FMcOMKmpcYcSoE0DREAcWTVMiKcuQRqnjMZikCUksjkolmiaArYcp0BIqNWQEhESjBTGnzhJKiyK4p1OiKrKxT1WlYMrtWtB/ZiwtsI3FCZgwc1g1dmEx0OlJupI0JPpE07n9ZSIVDPbqguWCjDQ2UsnBZysYa2l+x//OExHAlO0IQANJGvThSPa1I+qHnv/uT6tTpiZVn0Ehcuz1VnWUvdOc7K8mlsvdehvc7BkDksWxqtituDonRy2VS/GGqF0oleqRDFhlNIVNzHTcyQ6RH2owNHWBQthxR0sIsIJxUL/qsm2GWW03JTxd2VdbHy1+ylsIRtKtZW1QHDHJyR8Vm54PVtQzb7fvrM2vmRHdo3v7nP+25db2wp+WZDfG8fai6zc3I2Zp/FvH+Ur+k/UNj/4dr336DfzrZ//OExI4oI+IIAMpM3e4Z3eXbnW2tHfuQr4fXVNz+saUxAC5ad/LzD3HeBnEHsoWEirlyuNy+WRt9Hc4QWFzcV24KTRrm2idsnbkrKtpTC6NIUHqnKlEEOoglPKmvOtrJyycIMbC/n6bdZdXsA7C2wgzIrlQ5pxCc00KFxEUDZMIcRK+DH+CKdc6LMDYRXgs0TRYhoiOhaGELI0O2F0y+mhGl00cO2ZPz36/lfnxzTLen7n4QzfgkGAwXUmUmHKVq//OExKAmq+okAMJG3LWBCCmoyBZ0sLlPM24kLBMsfd4nn6OeH1WeIfZenJDmJvbVKwTnUo3b2NEePj9xVvgkkdFjQa+3PISsT795BW6t9p3bylnuWVX0jJmj7rRYhxEm3RVI4mgR6WidGu0hH2Ro6gVj7hOajbJC1CJuBMQqP2UUTSOKSy+wiZRFarcXi1ODVNWl/vowTeXazF9mzqcrSvZTYVremqtNnKVrWWmW4Wkt6qjAhLaLOZeExx1eqyq4//OExLgv4yIsAMvSvSjcY1p8ovwqAVTolSqy7bmu9QwmU4wE1rcxDbLbxNKogDUqEQeyyDV9tpdc5c4TUHSq7VahI6ctWQh8XCacA2JAgkqV0CNDMdPaMxMlL8sjTvJEAgyRLcZnRpfp4JOROmpk5Jmp8Zm2Z3wvzFPP9JVqOVry/nzvzM8xlHVRlVRzcIK8GN6o4mK6mvq1udYpJwdZP1WLfx/2tyX8afeC/9/eN5z9VTk48KXLF5uGYVIp6kuy//OExKsnCoogAMMMuQopjs8+DrWoJkNdQlsmXU0lxlWAoBfo+iQmY3kHLLF2WiYeKCpWBOySQQ5DcgrLIGFk5Qh2NulFPm7OdQW2uqYc89ng9fh+8WpERkUKRIA8aT9d2yyhqui923UqVXW2Mx5efZvk1lzEl7yrm2y5RJrUpNaqzzqySd9QVPUypqnBVewu9SilWwOgVTSJWD2lNjeRxqtBVmpn7/yrkPQG+sHLBqMBgUI0LOMXKi0ZKIhqowQq//OExMElQ/IQAMJG3SqVIm1oICI/3Ox8YRak58TUGEUGLZqqt+ynCJydqa6oolbCus+MoYejKWUS0KTR9xn3yJYaqyqVqR+dHZgf5lBoXBW24k3i3O4Y2I5yEQNgaQLwtzirM8zLpSqWiSmMXooskRg5E/GeqTSiR3H2BBnzKh95TztNytancNbtVsrksjs3qtyVHS1dC46pPNTKgPEi58dmBZXF1QuJD/ma55AWswGssHzDJtdYkEk3WMsOomDB//OExN8nTAIEAMpG3W3ecUK+WtrVkET8LkbL5ygtyho2SpAMmYSQQkipu9GhSLyRBi4LFhSno8tqSQaSTlQVaCVEnGHtW1sugqTUXaSmSZ7IGdeW6iL647KqYCymtdZRFOSAKWsh9fETMmkHTKO5iaLp0aEEkbSxEwhnWh+n0ctdrHINJSE3VX005FxKKUPd53+85zLWdvd+3M4YZ34ybKayUWZcQlcIepRlGiuQraQj6NtGFYoeqK+mXhFA3Nok//OExPQwJCn0ANMM3eyhEQjIV0J5pBJNE2iqa0pXFdoyjGl8QIQWybvjzDGWikQfTyilkcuUTWNKDlNL83qKExjCs2E9i3A9TpbpbbKPYRkJGHsEYcgVLv8pubtUXaczOF90TE0kYaNIU32N2DqNbbpcf5G0xSctcIw6Tz2iGP50JbpqGVrtTY6W4QqgWpJFbGaKjWbuXXQKcoHilUEtZyKFCvBCQPWLiNAamNsjgL6hQIwwGhUsoZpszIuu2gPk//OExOYsPDH4ANJM3STIEjR+Cm2O9QnI+u2bgjZtd7pIKNQUmROOHC1j4MEd5HEnmKa5inDV8XIdL8mZuKlw0nSfwIdUXwRSQyERW+qow2GxrIU5UQyskkTGTeYM27dcak7RJw9TXEg8Zjtpm1G3drDjmaFVReByi5R/j7HDog4l40K1LOQnQapOY5btY3puvu9nLI5UmJZlfsk3MYgohtGu6E1lYk8tNtK6tmV2Jk2ESJG2icRwWSJCaBWjxg2X//OExOgrfAn4AKJQ3RYRNqGdifJloik5Yk0VlmU2jFiIPhwWl5VCp0O/0gwsqrcee8Cw1aWiNaUbo3Jo9btxLnljTy5gTLZs3UoNIWrnnuhDFRSO0OFJHZQ2CQ+OV4D04Vq2lKYWtw8jEgoNss5lNpIP2ghRtduccxg05YSCIiqQbcmWmTj6gSopQ/lhqzhXq/Zq46xwpp3vKlORNRJnIW3RRrGiBGK25Jrh0QTiYk8hSmhKo5QVIkdoEJmTzq/2//OExO0tVCX4ANJQ3M3olDqLDBakay7DOigjdWm4ddChMKXhmNRWg6Z7Hop+dx0aQw19pilmolLxeb2ajkW76ezTUC7R+k2BFWViUZRZnypg0DvdTTG6jKZNOC66CDnVBasxku3Y1ilOc7d9e0NNs+6SgzULYrKRucgk6mJVTbhC+k00vvVEVSuhcx7lj2zh9uva5an5uzlU1X5M22oRTLEuF4D69wsnExsmI1iYiKMz5ZmUEiFdGQ2RikklM1NN//OExOosTCH4ANJM3RvPXNSKM8tEzbSJeRgktEWdNlwScH44TTZMILswsPoTCUVdjKUWMoTjxEglaFB6wQNzxU1uTimzXnEWWKaBZMwbTyZMsTNOMiJPJuhhe8SsFIp47Q88takuB8Nnu27ahIVwis8850jKgaiDbaaWjZGGj6h1mVQVHs76wXUwjHoXCsAYg5DsUlFXp4hKbF6kw7T2aTkksklQIkY/JzmUikk0DBMdSJyZMRJYu0QrFx3YoVCz//OExOstrDn4ANJQ3EgUbQE6RldXTzaRgyQNSjC82EIqOTgYKa0s96a5MOH7sFeZRm5wusbJRw+YbYmIlE2Nd82DiTNtMo5Uwccgdd45mxOw5WyWwZykplJ6R80ZzinxjnVPpL9jdZMp6zW99nhE53UuaMVF+oXMZ/GlXdrwsucSybejmDSLxPYEsDJPq1ldrOWcuS5L/S67GX9jMMv7GabOlpUKEhFIItkJKhFIIhklQhYEg0iRTIRSKUSJ6qEh//OExOcr9BH4ANJM3RSSoUSKUvklRSmytK41KVLIkW/3H+UqRbFaCJpE1KW0agICArD2Or1YqqWoCAgJ+v9XVVVVX1AQEBARKrwMzVQoCbATMzH1YzH0BMgwE1jMpdVfU/2bhsKNjzqscZj9WOBgJqFE8YCFMxr/sKP1L1CknygridVMQU1FMy4xMDBVVVVVVVVVVVVVVVVVVVVVVVVVVVVVVVVVVVVVVVVVVVVVVVVVVVVVVVVVVVVVVVVVVVVV//OExOorDAnkAMJG3VVVVVVVVVVVVVVVVVVVVVVVVVVVVVVVVVVVVVVVVVVVVVVVVVVVVVVVVVVVVVVVVVVVVVVVVVVVVVVVVVVVVVVVVVVVVVVVVVVVVVVVVVVVVVVVVVVVVVVVVVVVVVVVVVVVVVVVVVVMQU1FMy4xMDBVVVVVVVVVVVVVVVVVVVVVVVVVVVVVVVVVVVVVVVVVVVVVVVVVVVVVVVVVVVVVVVVVVVVVVVVVVVVVVVVVVVVVVVVV//OExEwAAANIAAAAAFVVVVVVVVVVVVVVVVVVVVVVVVVVVVVVVVVVVVVVVVVVVVVVVVVVVVVVVVVVVVVVVVVVVVVVVVVVVVVVVVVVVVVVVVVVVVVVVVVVVVVVVVVVVVVVVVVVVVVVVVVVVVVVVVVVVVVVVVVVVVVVVVVVVVVVVVVVVVVVVVVVVVVVVVVVVVVVVVVVVVVVVVVVVVVVVVVVVVVVVVVVVVVVVVVVVVVVVVVVVVVVVVVVVVVVVVVVVVVV\" type=\"audio/mpeg\" />\n",
       "                    Your browser does not support the audio element.\n",
       "                </audio>\n",
       "              "
      ],
      "text/plain": [
       "<IPython.lib.display.Audio object>"
      ]
     },
     "metadata": {},
     "output_type": "display_data"
    },
    {
     "name": "stderr",
     "output_type": "stream",
     "text": [
      "ffmpeg version 7.1.1 Copyright (c) 2000-2025 the FFmpeg developers\n",
      "  built with Apple clang version 16.0.0 (clang-1600.0.26.6)\n",
      "  configuration: --prefix=/usr/local/Cellar/ffmpeg/7.1.1_2 --enable-shared --enable-pthreads --enable-version3 --cc=clang --host-cflags= --host-ldflags='-Wl,-ld_classic' --enable-ffplay --enable-gnutls --enable-gpl --enable-libaom --enable-libaribb24 --enable-libbluray --enable-libdav1d --enable-libharfbuzz --enable-libjxl --enable-libmp3lame --enable-libopus --enable-librav1e --enable-librist --enable-librubberband --enable-libsnappy --enable-libsrt --enable-libssh --enable-libsvtav1 --enable-libtesseract --enable-libtheora --enable-libvidstab --enable-libvmaf --enable-libvorbis --enable-libvpx --enable-libwebp --enable-libx264 --enable-libx265 --enable-libxml2 --enable-libxvid --enable-lzma --enable-libfontconfig --enable-libfreetype --enable-frei0r --enable-libass --enable-libopencore-amrnb --enable-libopencore-amrwb --enable-libopenjpeg --enable-libspeex --enable-libsoxr --enable-libzmq --enable-libzimg --disable-libjack --disable-indev=jack --enable-videotoolbox --enable-audiotoolbox\n",
      "  libavutil      59. 39.100 / 59. 39.100\n",
      "  libavcodec     61. 19.101 / 61. 19.101\n",
      "  libavformat    61.  7.100 / 61.  7.100\n",
      "  libavdevice    61.  3.100 / 61.  3.100\n",
      "  libavfilter    10.  4.100 / 10.  4.100\n",
      "  libswscale      8.  3.100 /  8.  3.100\n",
      "  libswresample   5.  3.100 /  5.  3.100\n",
      "  libpostproc    58.  3.100 / 58.  3.100\n",
      "[mp3 @ 0x7ff12f706740] Estimating duration from bitrate, this may be inaccurate\n",
      "Input #0, mp3, from 'tamil_output.mp3':\n",
      "  Duration: 00:00:02.42, start: 0.000000, bitrate: 64 kb/s\n",
      "  Stream #0:0: Audio: mp3 (mp3float), 24000 Hz, mono, fltp, 64 kb/s\n",
      "Stream mapping:\n",
      "  Stream #0:0 -> #0:0 (mp3 (mp3float) -> pcm_s16le (native))\n",
      "Press [q] to stop, [?] for help\n",
      "Output #0, wav, to 'tamil_output.wav':\n",
      "  Metadata:\n",
      "    ISFT            : Lavf61.7.100\n",
      "  Stream #0:0: Audio: pcm_s16le ([1][0][0][0] / 0x0001), 24000 Hz, mono, s16, 384 kb/s\n",
      "      Metadata:\n",
      "        encoder         : Lavc61.19.101 pcm_s16le\n",
      "[out#0/wav @ 0x7ff12f708580] video:0KiB audio:114KiB subtitle:0KiB other streams:0KiB global headers:0KiB muxing overhead: 0.067038%\n",
      "size=     114KiB time=00:00:02.42 bitrate= 384.3kbits/s speed= 338x    \n"
     ]
    },
    {
     "name": "stdout",
     "output_type": "stream",
     "text": [
      "Recognized Text from Speech (Tamil): வணக்கம் நான் அஸ்வ\n",
      "Accuracy: 33.33%\n"
     ]
    }
   ],
   "source": [
    "from googletrans import Translator\n",
    "from gtts import gTTS\n",
    "import speech_recognition as sr\n",
    "from jiwer import wer\n",
    "from IPython.display import Audio\n",
    "import os\n",
    "import platform\n",
    "\n",
    "# Step 1: Translate text from English to Tamil\n",
    "translator = Translator()\n",
    "text_in_english = \"Hello, I am Aswath\"\n",
    "translated_text = translator.translate(text_in_english, src='en', dest='ta')\n",
    "tamil_text = translated_text.text\n",
    "print(\"Translated Text (Tamil):\", tamil_text)\n",
    "\n",
    "# Step 2: Convert to speech and save as MP3\n",
    "tts = gTTS(text=tamil_text, lang='ta')\n",
    "tts.save(\"tamil_output.mp3\")\n",
    "\n",
    "# Step 3: Play audio in Jupyter Notebook\n",
    "display(Audio(\"tamil_output.mp3\", autoplay=True))\n",
    "\n",
    "# Step 4: Convert MP3 to WAV using ffmpeg (make sure ffmpeg is installed and in PATH)\n",
    "os.system(\"ffmpeg -i tamil_output.mp3 tamil_output.wav -y\")\n",
    "\n",
    "# Step 5: Recognize speech from audio file\n",
    "recognizer = sr.Recognizer()\n",
    "try:\n",
    "    with sr.AudioFile(\"tamil_output.wav\") as source:\n",
    "        audio = recognizer.record(source)\n",
    "\n",
    "    recognized_text = recognizer.recognize_google(audio, language='ta')\n",
    "    print(\"Recognized Text from Speech (Tamil):\", recognized_text)\n",
    "\n",
    "    # Step 6: Calculate accuracy using Word Error Rate (WER)\n",
    "    error_rate = wer(tamil_text, recognized_text)\n",
    "    accuracy = (1 - error_rate) * 100\n",
    "    print(f\"Accuracy: {accuracy:.2f}%\")\n",
    "\n",
    "except sr.RequestError:\n",
    "    print(\"Could not request results from the speech recognition service.\")\n",
    "except sr.UnknownValueError:\n",
    "    print(\"Speech was not recognized.\")\n"
   ]
  },
  {
   "cell_type": "code",
   "execution_count": null,
   "id": "5f813393",
   "metadata": {},
   "outputs": [],
   "source": []
  }
 ],
 "metadata": {
  "kernelspec": {
   "display_name": "Python 3 (ipykernel)",
   "language": "python",
   "name": "python3"
  },
  "language_info": {
   "codemirror_mode": {
    "name": "ipython",
    "version": 3
   },
   "file_extension": ".py",
   "mimetype": "text/x-python",
   "name": "python",
   "nbconvert_exporter": "python",
   "pygments_lexer": "ipython3",
   "version": "3.11.7"
  }
 },
 "nbformat": 4,
 "nbformat_minor": 5
}
