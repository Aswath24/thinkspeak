{
 "cells": [
  {
   "cell_type": "code",
   "execution_count": null,
   "id": "27cdfc46",
   "metadata": {},
   "outputs": [],
   "source": [
    "#1.Reviews\n",
    "import pandas as pd\n",
    "df = pd.read_csv('/content/drive/MyDrive/T&S Assignment/Reviews.csv')"
   ]
  },
  {
   "cell_type": "code",
   "execution_count": null,
   "id": "ac7c2bec",
   "metadata": {},
   "outputs": [],
   "source": [
    "import pandas as pd\n",
    "import nltk\n",
    "from collections import Counter\n",
    "from nltk.corpus import stopwords\n",
    "import string\n",
    "import re"
   ]
  },
  {
   "cell_type": "code",
   "execution_count": null,
   "id": "29607784",
   "metadata": {},
   "outputs": [],
   "source": [
    "nltk.download('stopwords')\n",
    "nltk.download('punkt')\n",
    "nltk.download('punkt_tab')"
   ]
  },
  {
   "cell_type": "code",
   "execution_count": null,
   "id": "5a8800ed",
   "metadata": {},
   "outputs": [],
   "source": [
    "if \"Text\" in df.columns:\n",
    "    reviews = df[\"Text\"].dropna().astype(str)\n",
    "    reviews.apply(lambda x: re.sub(r'<br\\s*/?>', ' ', x))"
   ]
  },
  {
   "cell_type": "code",
   "execution_count": null,
   "id": "e84318fb",
   "metadata": {},
   "outputs": [],
   "source": [
    "stop_words = set(stopwords.words(\"english\"))\n",
    "words = []\n",
    "\n",
    "for review in reviews:\n",
    "    tokens = nltk.word_tokenize(review.lower())\n",
    "    filtered_tokens = [word for word in tokens if word.isalnum() and word not in stop_words]\n",
    "    words.extend(filtered_tokens)"
   ]
  },
  {
   "cell_type": "code",
   "execution_count": null,
   "id": "dd4ce895",
   "metadata": {},
   "outputs": [],
   "source": [
    "word_counts = Counter(words)\n",
    "top_50_words = word_counts.most_common(50)\n",
    "for word, count in top_50_words:\n",
    "    print(f\"{word}: {count}\")"
   ]
  },
  {
   "cell_type": "code",
   "execution_count": null,
   "id": "ef274011",
   "metadata": {},
   "outputs": [],
   "source": [
    "import seaborn as sns\n",
    "import matplotlib.pyplot as plt\n",
    "word_df = pd.DataFrame(top_50_words, columns=[\"Word\", \"Count\"])\n",
    "plt.figure(figsize=(12, 6))\n",
    "sns.barplot(x=\"Count\", y=\"Word\", data=word_df, palette=\"viridis\")\n",
    "plt.xlabel(\"Frequency\")\n",
    "plt.ylabel(\"Words\")\n",
    "plt.title(\"Top 50 Most Frequent Words in Amazon Reviews (Excluding Stopwords)\")\n",
    "plt.show()"
   ]
  },
  {
   "cell_type": "code",
   "execution_count": null,
   "id": "38c7dbf9",
   "metadata": {},
   "outputs": [],
   "source": [
    "#2.Twitter\n",
    "column_names = [\"Id\", \"Product\", \"Sentiment\", \"Text\"]\n",
    "df1 = pd.read_csv('/content/drive/MyDrive/T&S Assignment/twitter_training.csv', names=column_names, header=None)"
   ]
  },
  {
   "cell_type": "code",
   "execution_count": null,
   "id": "2af2c1ba",
   "metadata": {},
   "outputs": [],
   "source": [
    "df1=df1[:70000]"
   ]
  },
  {
   "cell_type": "code",
   "execution_count": null,
   "id": "a1b574da",
   "metadata": {},
   "outputs": [],
   "source": [
    "if \"Text\" in df.columns:\n",
    "    reviews = df1[\"Text\"].dropna().astype(str)"
   ]
  },
  {
   "cell_type": "code",
   "execution_count": null,
   "id": "8a9118e8",
   "metadata": {},
   "outputs": [],
   "source": [
    "stop_words = set(stopwords.words(\"english\"))\n",
    "words = []\n",
    "\n",
    "for review in reviews:\n",
    "    tokens = nltk.word_tokenize(review.lower())\n",
    "    filtered_tokens = [word for word in tokens if word.isalnum() and word not in stop_words]\n",
    "    words.extend(filtered_tokens)"
   ]
  },
  {
   "cell_type": "code",
   "execution_count": null,
   "id": "c148a3c7",
   "metadata": {},
   "outputs": [],
   "source": [
    "word_counts_1 = Counter(words)\n",
    "top_50_words_1 = word_counts_1.most_common(50)\n",
    "for word, count in top_50_words_1:\n",
    "    print(f\"{word}: {count}\")"
   ]
  },
  {
   "cell_type": "code",
   "execution_count": null,
   "id": "85d9fed2",
   "metadata": {},
   "outputs": [],
   "source": [
    "import seaborn as sns\n",
    "import matplotlib.pyplot as plt\n",
    "word_df = pd.DataFrame(top_50_words_1, columns=[\"Word\", \"Count\"])\n",
    "plt.figure(figsize=(12, 6))\n",
    "sns.barplot(x=\"Count\", y=\"Word\", data=word_df, palette=\"viridis\")\n",
    "plt.xlabel(\"Frequency\")\n",
    "plt.ylabel(\"Words\")\n",
    "plt.title(\"Top 50 Most Frequent Words in Twitter Data (Excluding Stopwords)\")\n",
    "plt.show()"
   ]
  },
  {
   "cell_type": "code",
   "execution_count": null,
   "id": "b62ec4bc",
   "metadata": {},
   "outputs": [],
   "source": [
    "#3.IMDB\n",
    "df2 = pd.read_csv('/content/drive/MyDrive/T&S Assignment/IMDB Dataset.csv')\n",
    "df2=df2[:45000]"
   ]
  },
  {
   "cell_type": "code",
   "execution_count": null,
   "id": "73f22c2e",
   "metadata": {},
   "outputs": [],
   "source": [
    "if \"review\" in df2.columns:\n",
    "    reviews = df2[\"review\"].dropna().astype(str)"
   ]
  },
  {
   "cell_type": "code",
   "execution_count": null,
   "id": "b4eaff57",
   "metadata": {},
   "outputs": [],
   "source": [
    "stop_words = set(stopwords.words(\"english\"))\n",
    "words = []\n",
    "\n",
    "for review in reviews:\n",
    "    tokens = nltk.word_tokenize(review.lower())\n",
    "    filtered_tokens = [word for word in tokens if word.isalnum() and word not in stop_words]\n",
    "    words.extend(filtered_tokens)"
   ]
  },
  {
   "cell_type": "code",
   "execution_count": null,
   "id": "c3cca731",
   "metadata": {},
   "outputs": [],
   "source": [
    "word_counts_2 = Counter(words)\n",
    "top_50_words_2 = word_counts_2.most_common(50)\n",
    "for word, count in top_50_words_2:\n",
    "    print(f\"{word}: {count}\")"
   ]
  },
  {
   "cell_type": "code",
   "execution_count": null,
   "id": "7f07d3cb",
   "metadata": {},
   "outputs": [],
   "source": [
    "import seaborn as sns\n",
    "import matplotlib.pyplot as plt\n",
    "word_df = pd.DataFrame(top_50_words_2, columns=[\"Word\", \"Count\"])\n",
    "plt.figure(figsize=(12, 6))\n",
    "sns.barplot(x=\"Count\", y=\"Word\", data=word_df, palette=\"viridis\")\n",
    "plt.xlabel(\"Frequency\")\n",
    "plt.ylabel(\"Words\")\n",
    "plt.title(\"Top 50 Most Frequent Words in Twitter Data (Excluding Stopwords)\")\n",
    "plt.show()"
   ]
  }
 ],
 "metadata": {
  "kernelspec": {
   "display_name": "Python 3 (ipykernel)",
   "language": "python",
   "name": "python3"
  },
  "language_info": {
   "codemirror_mode": {
    "name": "ipython",
    "version": 3
   },
   "file_extension": ".py",
   "mimetype": "text/x-python",
   "name": "python",
   "nbconvert_exporter": "python",
   "pygments_lexer": "ipython3",
   "version": "3.11.7"
  }
 },
 "nbformat": 4,
 "nbformat_minor": 5
}
