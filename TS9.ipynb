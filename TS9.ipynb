{
 "cells": [
  {
   "cell_type": "code",
   "execution_count": 1,
   "id": "4b5be49c",
   "metadata": {},
   "outputs": [
    {
     "name": "stdout",
     "output_type": "stream",
     "text": [
      "Collecting openai-whisper\n",
      "  Downloading openai-whisper-20240930.tar.gz (800 kB)\n",
      "\u001b[2K     \u001b[90m━━━━━━━━━━━━━━━━━━━━━━━━━━━━━━━━━━━━━━━\u001b[0m \u001b[32m800.5/800.5 kB\u001b[0m \u001b[31m4.8 MB/s\u001b[0m eta \u001b[36m0:00:00\u001b[0ma \u001b[36m0:00:01\u001b[0m\n",
      "\u001b[?25h  Installing build dependencies ... \u001b[?25ldone\n",
      "\u001b[?25h  Getting requirements to build wheel ... \u001b[?25ldone\n",
      "\u001b[?25h  Preparing metadata (pyproject.toml) ... \u001b[?25ldone\n",
      "\u001b[?25hRequirement already satisfied: numba in /opt/anaconda3/lib/python3.11/site-packages (from openai-whisper) (0.59.0)\n",
      "Requirement already satisfied: numpy in /opt/anaconda3/lib/python3.11/site-packages (from openai-whisper) (1.26.4)\n",
      "Requirement already satisfied: torch in /opt/anaconda3/lib/python3.11/site-packages (from openai-whisper) (2.7.0)\n",
      "Requirement already satisfied: tqdm in /opt/anaconda3/lib/python3.11/site-packages (from openai-whisper) (4.67.1)\n",
      "Requirement already satisfied: more-itertools in /opt/anaconda3/lib/python3.11/site-packages (from openai-whisper) (10.1.0)\n",
      "Collecting tiktoken (from openai-whisper)\n",
      "  Downloading tiktoken-0.9.0-cp311-cp311-macosx_11_0_arm64.whl.metadata (6.7 kB)\n",
      "Requirement already satisfied: llvmlite<0.43,>=0.42.0dev0 in /opt/anaconda3/lib/python3.11/site-packages (from numba->openai-whisper) (0.42.0)\n",
      "Requirement already satisfied: regex>=2022.1.18 in /opt/anaconda3/lib/python3.11/site-packages (from tiktoken->openai-whisper) (2023.10.3)\n",
      "Requirement already satisfied: requests>=2.26.0 in /opt/anaconda3/lib/python3.11/site-packages (from tiktoken->openai-whisper) (2.32.3)\n",
      "Requirement already satisfied: filelock in /opt/anaconda3/lib/python3.11/site-packages (from torch->openai-whisper) (3.13.1)\n",
      "Requirement already satisfied: typing-extensions>=4.10.0 in /opt/anaconda3/lib/python3.11/site-packages (from torch->openai-whisper) (4.13.2)\n",
      "Requirement already satisfied: sympy>=1.13.3 in /opt/anaconda3/lib/python3.11/site-packages (from torch->openai-whisper) (1.13.3)\n",
      "Requirement already satisfied: networkx in /opt/anaconda3/lib/python3.11/site-packages (from torch->openai-whisper) (2.8.8)\n",
      "Requirement already satisfied: jinja2 in /opt/anaconda3/lib/python3.11/site-packages (from torch->openai-whisper) (3.1.3)\n",
      "Requirement already satisfied: fsspec in /opt/anaconda3/lib/python3.11/site-packages (from torch->openai-whisper) (2023.10.0)\n",
      "Requirement already satisfied: charset-normalizer<4,>=2 in /opt/anaconda3/lib/python3.11/site-packages (from requests>=2.26.0->tiktoken->openai-whisper) (2.0.4)\n",
      "Requirement already satisfied: idna<4,>=2.5 in /opt/anaconda3/lib/python3.11/site-packages (from requests>=2.26.0->tiktoken->openai-whisper) (2.10)\n",
      "Requirement already satisfied: urllib3<3,>=1.21.1 in /opt/anaconda3/lib/python3.11/site-packages (from requests>=2.26.0->tiktoken->openai-whisper) (2.0.7)\n",
      "Requirement already satisfied: certifi>=2017.4.17 in /opt/anaconda3/lib/python3.11/site-packages (from requests>=2.26.0->tiktoken->openai-whisper) (2024.2.2)\n",
      "Requirement already satisfied: mpmath<1.4,>=1.1.0 in /opt/anaconda3/lib/python3.11/site-packages (from sympy>=1.13.3->torch->openai-whisper) (1.3.0)\n",
      "Requirement already satisfied: MarkupSafe>=2.0 in /opt/anaconda3/lib/python3.11/site-packages (from jinja2->torch->openai-whisper) (2.1.3)\n",
      "Downloading tiktoken-0.9.0-cp311-cp311-macosx_11_0_arm64.whl (1.0 MB)\n",
      "\u001b[2K   \u001b[90m━━━━━━━━━━━━━━━━━━━━━━━━━━━━━━━━━━━━━━━━\u001b[0m \u001b[32m1.0/1.0 MB\u001b[0m \u001b[31m13.7 MB/s\u001b[0m eta \u001b[36m0:00:00\u001b[0m00:01\u001b[0m00:01\u001b[0m\n",
      "\u001b[?25hBuilding wheels for collected packages: openai-whisper\n",
      "  Building wheel for openai-whisper (pyproject.toml) ... \u001b[?25ldone\n",
      "\u001b[?25h  Created wheel for openai-whisper: filename=openai_whisper-20240930-py3-none-any.whl size=803404 sha256=ba85d2fe224c65fe07f65fc4c3638184ca639eb4c7c08af06cdcce8654614b18\n",
      "  Stored in directory: /Users/aswatha/Library/Caches/pip/wheels/2f/f2/ce/6eb23db4091d026238ce76703bd66da60b969d70bcc81d5d3a\n",
      "Successfully built openai-whisper\n",
      "Installing collected packages: tiktoken, openai-whisper\n",
      "Successfully installed openai-whisper-20240930 tiktoken-0.9.0\n",
      "Requirement already satisfied: jiwer in /opt/anaconda3/lib/python3.11/site-packages (3.1.0)\n",
      "Requirement already satisfied: click>=8.1.8 in /opt/anaconda3/lib/python3.11/site-packages (from jiwer) (8.2.1)\n",
      "Requirement already satisfied: rapidfuzz>=3.9.7 in /opt/anaconda3/lib/python3.11/site-packages (from jiwer) (3.13.0)\n"
     ]
    }
   ],
   "source": [
    "!pip install -U openai-whisper\n",
    "!pip install jiwer"
   ]
  },
  {
   "cell_type": "code",
   "execution_count": 2,
   "id": "6384848e",
   "metadata": {},
   "outputs": [
    {
     "name": "stdout",
     "output_type": "stream",
     "text": [
      "Detected language: ta\n",
      "Recognized Text: சரித்துரத்தை ஒரு நவிஷயம் பாருங்கள். அது நாம் கத்துக் கொடுத்தது ஒன்றுதான். நாம் வாழ்க்கவேண்டும் என்றால் யார வேண்டாம்? எத்தனை பெரு வேண்டாம் கொல்லலாம்.\n",
      "Word Error Rate: 0.6111111111111112\n"
     ]
    }
   ],
   "source": [
    "import whisper\n",
    "from jiwer import wer  # For Word Error Rate\n",
    "\n",
    "# Load Whisper model\n",
    "model = whisper.load_model(\"small\")\n",
    "\n",
    "def speech_to_text(audio_path):\n",
    "    \"\"\"\n",
    "    Transcribes speech from an audio file using Whisper.\n",
    "    \"\"\"\n",
    "    try:\n",
    "        audio = whisper.load_audio(audio_path)\n",
    "        audio = whisper.pad_or_trim(audio)\n",
    "\n",
    "        mel = whisper.log_mel_spectrogram(audio).to(model.device)\n",
    "\n",
    "        # Detect language (optional)\n",
    "        _, probs = model.detect_language(mel)\n",
    "        detected_lang = max(probs, key=probs.get)\n",
    "        print(f\"Detected language: {detected_lang}\")\n",
    "\n",
    "        # Decode speech\n",
    "        options = whisper.DecodingOptions(fp16=False)\n",
    "        result = whisper.decode(model, mel, options)\n",
    "\n",
    "        return result.text.strip()\n",
    "\n",
    "    except Exception as e:\n",
    "        print(\"Error during speech-to-text:\", e)\n",
    "        return None\n",
    "\n",
    "def calculate_wer(reference_text, recognized_text):\n",
    "    \"\"\"\n",
    "    Calculates Word Error Rate between reference and recognized text.\n",
    "    \"\"\"\n",
    "    return wer(reference_text, recognized_text)\n",
    "\n",
    "# ======= USAGE =======\n",
    "\n",
    "audio_path = 'test2.mp3'\n",
    "reference_text = \"சரித்திரத்தை ஒரு நிமிஷம் பாருங்கள். அது நமக்கு கற்றுக் கொடுத்தது ஒன்னு தான். நாம வாழணும்னா யார வேணாலும், எத்தனை பேர வேணாலும் கொல்லலாம்.\"\n",
    "\n",
    "recognized_text = speech_to_text(audio_path)\n",
    "\n",
    "if recognized_text:\n",
    "    print(\"Recognized Text:\", recognized_text)\n",
    "    error_rate = calculate_wer(reference_text, recognized_text)\n",
    "    print(\"Word Error Rate:\", error_rate)\n",
    "else:\n",
    "    print(\"Error: Could not transcribe the audio.\")\n"
   ]
  },
  {
   "cell_type": "code",
   "execution_count": null,
   "id": "09033335",
   "metadata": {},
   "outputs": [],
   "source": []
  }
 ],
 "metadata": {
  "kernelspec": {
   "display_name": "Python 3 (ipykernel)",
   "language": "python",
   "name": "python3"
  },
  "language_info": {
   "codemirror_mode": {
    "name": "ipython",
    "version": 3
   },
   "file_extension": ".py",
   "mimetype": "text/x-python",
   "name": "python",
   "nbconvert_exporter": "python",
   "pygments_lexer": "ipython3",
   "version": "3.11.7"
  }
 },
 "nbformat": 4,
 "nbformat_minor": 5
}
