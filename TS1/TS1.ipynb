{
  "nbformat": 4,
  "nbformat_minor": 0,
  "metadata": {
    "colab": {
      "provenance": []
    },
    "kernelspec": {
      "name": "python3",
      "display_name": "Python 3"
    },
    "language_info": {
      "name": "python"
    }
  },
  "cells": [
    {
      "cell_type": "code",
      "source": [
        "import re"
      ],
      "metadata": {
        "id": "uMUHNV-o2n7O"
      },
      "execution_count": 1,
      "outputs": []
    },
    {
      "cell_type": "code",
      "execution_count": 2,
      "metadata": {
        "id": "_O4cxJ-91z5B"
      },
      "outputs": [],
      "source": [
        "text=\"\"\"On 01/04/2025, Dr. Emily White, a lead researcher at GlobalTech Corp, sent an email to john.doe123@example.com and sarah.jones456@company.org regarding the upcoming conference on AI advancements. They discussed the conference fees, which were $200.50 for general admission and $450.75 for VIP access, to be paid via PayPal or credit card, and confirmed that the payments should be sent to info@globaltechconference.com. The venue for the event was announced to be at Room #402, Building B at the downtown convention center. The team also shared a link to the event website, https://www.globaltechconference.com, where participants could register. Additionally, they sent an invitation to the virtual meeting at https://zoom.us/j/1234567890, where they planned to discuss the latest breakthroughs. Dr. White also mentioned the office IP address 257.120.223.13 for secure access to the internal network and noted that the phone numbers for queries were +91 9003243125 for the main line and +1 (800) 555-5678 for VIP support. Later, Dr. White tweeted about the event using the hashtag #TechInnovation2025 and mentioned @GlobalTechCorp in her post. She also included the room number for VIP registration as \"Apt #305\" in her email signature with the code 4.56e-7\"\"\""
      ]
    },
    {
      "cell_type": "code",
      "source": [
        "re.search(r'at',text)"
      ],
      "metadata": {
        "colab": {
          "base_uri": "https://localhost:8080/"
        },
        "id": "I5J6y1m02r9V",
        "outputId": "26fc1a1a-d968-49e4-f2a9-8d09aba0e250"
      },
      "execution_count": 3,
      "outputs": [
        {
          "output_type": "execute_result",
          "data": {
            "text/plain": [
              "<re.Match object; span=(50, 52), match='at'>"
            ]
          },
          "metadata": {},
          "execution_count": 3
        }
      ]
    },
    {
      "cell_type": "code",
      "source": [
        "re.findall(\"[A-Z]\\w+\",text)"
      ],
      "metadata": {
        "colab": {
          "base_uri": "https://localhost:8080/"
        },
        "id": "fCLLzq0h4MV3",
        "outputId": "d490dd9d-5b10-4e03-ea43-b1d335a44254"
      },
      "execution_count": 4,
      "outputs": [
        {
          "output_type": "execute_result",
          "data": {
            "text/plain": [
              "['On',\n",
              " 'Dr',\n",
              " 'Emily',\n",
              " 'White',\n",
              " 'GlobalTech',\n",
              " 'Corp',\n",
              " 'AI',\n",
              " 'They',\n",
              " 'VIP',\n",
              " 'PayPal',\n",
              " 'The',\n",
              " 'Room',\n",
              " 'Building',\n",
              " 'The',\n",
              " 'Additionally',\n",
              " 'Dr',\n",
              " 'White',\n",
              " 'IP',\n",
              " 'VIP',\n",
              " 'Later',\n",
              " 'Dr',\n",
              " 'White',\n",
              " 'TechInnovation2025',\n",
              " 'GlobalTechCorp',\n",
              " 'She',\n",
              " 'VIP',\n",
              " 'Apt']"
            ]
          },
          "metadata": {},
          "execution_count": 4
        }
      ]
    },
    {
      "cell_type": "code",
      "source": [
        "re.findall(\"[A-Za-z0-9._%+-]+@[A-Za-z0-9.-]+\\.[A-Za-z]{2,}\",text)"
      ],
      "metadata": {
        "colab": {
          "base_uri": "https://localhost:8080/"
        },
        "id": "ESlaUH3f4lfd",
        "outputId": "95e3de39-97ec-4e9c-efc6-b746c1fab60b"
      },
      "execution_count": 5,
      "outputs": [
        {
          "output_type": "execute_result",
          "data": {
            "text/plain": [
              "['john.doe123@example.com',\n",
              " 'sarah.jones456@company.org',\n",
              " 'info@globaltechconference.com']"
            ]
          },
          "metadata": {},
          "execution_count": 5
        }
      ]
    },
    {
      "cell_type": "code",
      "source": [
        "re.findall(r'(?:\\+91[-\\s]?|0)?[6-9]\\d{9}', text)\n"
      ],
      "metadata": {
        "colab": {
          "base_uri": "https://localhost:8080/"
        },
        "id": "akMghCOw5dk9",
        "outputId": "a82f0e54-36ae-4a1a-b74b-66f93561ef84"
      },
      "execution_count": 6,
      "outputs": [
        {
          "output_type": "execute_result",
          "data": {
            "text/plain": [
              "['+91 9003243125']"
            ]
          },
          "metadata": {},
          "execution_count": 6
        }
      ]
    },
    {
      "cell_type": "code",
      "source": [
        "re.findall(r'\\b\\d{1,3}\\.\\d{1,3}\\.\\d{1,3}\\.\\d{1,3}\\b',text)"
      ],
      "metadata": {
        "colab": {
          "base_uri": "https://localhost:8080/"
        },
        "id": "XD73UdjO6wlN",
        "outputId": "d6666083-e389-44f8-f8b8-83effd38ff68"
      },
      "execution_count": 7,
      "outputs": [
        {
          "output_type": "execute_result",
          "data": {
            "text/plain": [
              "['257.120.223.13']"
            ]
          },
          "metadata": {},
          "execution_count": 7
        }
      ]
    },
    {
      "cell_type": "code",
      "source": [
        "re.findall(r'\\b(?:\\d{2}/\\d{2}/\\d{4}|\\d{4}/\\d{2}/\\d{2})\\b',text)"
      ],
      "metadata": {
        "colab": {
          "base_uri": "https://localhost:8080/"
        },
        "id": "tp_id9kJ9I6d",
        "outputId": "840e37f9-016e-4f45-8c04-8969a9cb71cf"
      },
      "execution_count": 8,
      "outputs": [
        {
          "output_type": "execute_result",
          "data": {
            "text/plain": [
              "['01/04/2025']"
            ]
          },
          "metadata": {},
          "execution_count": 8
        }
      ]
    },
    {
      "cell_type": "code",
      "source": [
        "re.findall(r'https?://(?:www\\.)?[a-zA-Z0-9./-]+',text)"
      ],
      "metadata": {
        "colab": {
          "base_uri": "https://localhost:8080/"
        },
        "id": "d4qhADqi9lBd",
        "outputId": "ed6854e0-294d-43f3-e930-58b534b0cbd0"
      },
      "execution_count": 9,
      "outputs": [
        {
          "output_type": "execute_result",
          "data": {
            "text/plain": [
              "['https://www.globaltechconference.com', 'https://zoom.us/j/1234567890']"
            ]
          },
          "metadata": {},
          "execution_count": 9
        }
      ]
    },
    {
      "cell_type": "code",
      "source": [
        "re.findall(r'#[\\w-]+',text)"
      ],
      "metadata": {
        "colab": {
          "base_uri": "https://localhost:8080/"
        },
        "id": "vNCiAeNE9vZ0",
        "outputId": "7c917f0c-158c-4a1a-f037-d04847b6f3d4"
      },
      "execution_count": 10,
      "outputs": [
        {
          "output_type": "execute_result",
          "data": {
            "text/plain": [
              "['#402', '#TechInnovation2025', '#305']"
            ]
          },
          "metadata": {},
          "execution_count": 10
        }
      ]
    },
    {
      "cell_type": "code",
      "source": [
        "re.findall(r'@[\\w-]+',text)"
      ],
      "metadata": {
        "colab": {
          "base_uri": "https://localhost:8080/"
        },
        "id": "82lUIhQN91Gl",
        "outputId": "4d62047f-5de0-4e2f-dec6-8dcafbfe6d99"
      },
      "execution_count": null,
      "outputs": [
        {
          "output_type": "execute_result",
          "data": {
            "text/plain": [
              "['@example', '@company', '@globaltechconference', '@GlobalTechCorp']"
            ]
          },
          "metadata": {},
          "execution_count": 48
        }
      ]
    },
    {
      "cell_type": "code",
      "source": [
        "re.findall(r'\\b[A-Z]{2,}\\b',text)"
      ],
      "metadata": {
        "colab": {
          "base_uri": "https://localhost:8080/"
        },
        "id": "-YuuqfZl96tN",
        "outputId": "426eeaf9-43b5-4b29-cc01-e3e4ec55dd31"
      },
      "execution_count": null,
      "outputs": [
        {
          "output_type": "execute_result",
          "data": {
            "text/plain": [
              "['AI', 'VIP', 'IP', 'VIP', 'VIP']"
            ]
          },
          "metadata": {},
          "execution_count": 49
        }
      ]
    },
    {
      "cell_type": "code",
      "source": [
        "re.findall(r'\\b-?\\d+(\\.\\d+)?\\b',text)"
      ],
      "metadata": {
        "colab": {
          "base_uri": "https://localhost:8080/"
        },
        "id": "B_N4t6MS-CNU",
        "outputId": "308379bb-db3e-47e2-d3f7-30dd0dcfb7eb"
      },
      "execution_count": null,
      "outputs": [
        {
          "output_type": "execute_result",
          "data": {
            "text/plain": [
              "['',\n",
              " '',\n",
              " '',\n",
              " '.50',\n",
              " '.75',\n",
              " '',\n",
              " '',\n",
              " '.120',\n",
              " '.13',\n",
              " '',\n",
              " '',\n",
              " '',\n",
              " '',\n",
              " '',\n",
              " '',\n",
              " '',\n",
              " '',\n",
              " '']"
            ]
          },
          "metadata": {},
          "execution_count": 50
        }
      ]
    },
    {
      "cell_type": "code",
      "source": [
        "re.findall(r'\\$+?\\d+(?:,\\d{3})*(?:\\.\\d{2})?',text)"
      ],
      "metadata": {
        "colab": {
          "base_uri": "https://localhost:8080/"
        },
        "id": "7cpE7LbS-Krc",
        "outputId": "429b39b5-92c6-4de9-9a60-698e1eaf3539"
      },
      "execution_count": null,
      "outputs": [
        {
          "output_type": "execute_result",
          "data": {
            "text/plain": [
              "['$200.50', '$450.75']"
            ]
          },
          "metadata": {},
          "execution_count": 52
        }
      ]
    },
    {
      "cell_type": "code",
      "source": [
        "re.findall(r'\\b[Aa]pt #\\d+\\b',text)"
      ],
      "metadata": {
        "colab": {
          "base_uri": "https://localhost:8080/"
        },
        "id": "OItBONOw-W4E",
        "outputId": "7e048621-ff7f-47e0-ca09-67116e756c4e"
      },
      "execution_count": null,
      "outputs": [
        {
          "output_type": "execute_result",
          "data": {
            "text/plain": [
              "['Apt #305']"
            ]
          },
          "metadata": {},
          "execution_count": 53
        }
      ]
    },
    {
      "cell_type": "code",
      "source": [
        "re.findall(r'([A-Z][^.!?]*[.!?])',text)"
      ],
      "metadata": {
        "colab": {
          "base_uri": "https://localhost:8080/"
        },
        "id": "xuV_IN38-cBE",
        "outputId": "c2486490-b438-4d26-edc2-23616e8da082"
      },
      "execution_count": null,
      "outputs": [
        {
          "output_type": "execute_result",
          "data": {
            "text/plain": [
              "['On 01/04/2025, Dr.',\n",
              " 'Emily White, a lead researcher at GlobalTech Corp, sent an email to john.',\n",
              " 'AI advancements.',\n",
              " 'They discussed the conference fees, which were $200.',\n",
              " 'VIP access, to be paid via PayPal or credit card, and confirmed that the payments should be sent to info@globaltechconference.',\n",
              " 'The venue for the event was announced to be at Room #402, Building B at the downtown convention center.',\n",
              " 'The team also shared a link to the event website, https://www.',\n",
              " 'Additionally, they sent an invitation to the virtual meeting at https://zoom.',\n",
              " 'Dr.',\n",
              " 'White also mentioned the office IP address 257.',\n",
              " 'VIP support.',\n",
              " 'Later, Dr.',\n",
              " 'White tweeted about the event using the hashtag #TechInnovation2025 and mentioned @GlobalTechCorp in her post.',\n",
              " 'She also included the room number for VIP registration as \"Apt #305\" in her email signature.']"
            ]
          },
          "metadata": {},
          "execution_count": 54
        }
      ]
    },
    {
      "cell_type": "code",
      "source": [
        "re.findall(r'\\b\\d+\\.\\d+e[-+]?\\d+\\b',text)"
      ],
      "metadata": {
        "colab": {
          "base_uri": "https://localhost:8080/"
        },
        "id": "7JCU63qL-iIU",
        "outputId": "169fcf2a-48b3-47dc-80f1-488f07a43c53"
      },
      "execution_count": null,
      "outputs": [
        {
          "output_type": "execute_result",
          "data": {
            "text/plain": [
              "['4.56e-7']"
            ]
          },
          "metadata": {},
          "execution_count": 4
        }
      ]
    }
  ]
}